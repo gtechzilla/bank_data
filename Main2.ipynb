{
 "cells": [
  {
   "cell_type": "code",
   "execution_count": 1,
   "metadata": {
    "scrolled": false
   },
   "outputs": [],
   "source": [
    "import pandas as pd\n",
    "import numpy as np\n",
    "import seaborn as sns\n",
    "# for warning ignore\n",
    "import warnings\n",
    "warnings.filterwarnings(\"ignore\")\n",
    "import matplotlib.pyplot as plt"
   ]
  },
  {
   "cell_type": "code",
   "execution_count": 2,
   "metadata": {
    "scrolled": false
   },
   "outputs": [
    {
     "data": {
      "text/html": [
       "<div>\n",
       "<style scoped>\n",
       "    .dataframe tbody tr th:only-of-type {\n",
       "        vertical-align: middle;\n",
       "    }\n",
       "\n",
       "    .dataframe tbody tr th {\n",
       "        vertical-align: top;\n",
       "    }\n",
       "\n",
       "    .dataframe thead th {\n",
       "        text-align: right;\n",
       "    }\n",
       "</style>\n",
       "<table border=\"1\" class=\"dataframe\">\n",
       "  <thead>\n",
       "    <tr style=\"text-align: right;\">\n",
       "      <th></th>\n",
       "      <th>age</th>\n",
       "      <th>job</th>\n",
       "      <th>marital</th>\n",
       "      <th>education</th>\n",
       "      <th>default</th>\n",
       "      <th>housing</th>\n",
       "      <th>loan</th>\n",
       "      <th>contact</th>\n",
       "      <th>month</th>\n",
       "      <th>day_of_week</th>\n",
       "      <th>...</th>\n",
       "      <th>campaign</th>\n",
       "      <th>pdays</th>\n",
       "      <th>previous</th>\n",
       "      <th>poutcome</th>\n",
       "      <th>emp.var.rate</th>\n",
       "      <th>cons.price.idx</th>\n",
       "      <th>cons.conf.idx</th>\n",
       "      <th>euribor3m</th>\n",
       "      <th>nr.employed</th>\n",
       "      <th>y</th>\n",
       "    </tr>\n",
       "  </thead>\n",
       "  <tbody>\n",
       "    <tr>\n",
       "      <th>0</th>\n",
       "      <td>56</td>\n",
       "      <td>housemaid</td>\n",
       "      <td>married</td>\n",
       "      <td>basic.4y</td>\n",
       "      <td>no</td>\n",
       "      <td>no</td>\n",
       "      <td>no</td>\n",
       "      <td>telephone</td>\n",
       "      <td>may</td>\n",
       "      <td>mon</td>\n",
       "      <td>...</td>\n",
       "      <td>1</td>\n",
       "      <td>999</td>\n",
       "      <td>0</td>\n",
       "      <td>nonexistent</td>\n",
       "      <td>1.1</td>\n",
       "      <td>93.994</td>\n",
       "      <td>-36.4</td>\n",
       "      <td>4.857</td>\n",
       "      <td>5191.0</td>\n",
       "      <td>no</td>\n",
       "    </tr>\n",
       "    <tr>\n",
       "      <th>1</th>\n",
       "      <td>57</td>\n",
       "      <td>services</td>\n",
       "      <td>married</td>\n",
       "      <td>high.school</td>\n",
       "      <td>unknown</td>\n",
       "      <td>no</td>\n",
       "      <td>no</td>\n",
       "      <td>telephone</td>\n",
       "      <td>may</td>\n",
       "      <td>mon</td>\n",
       "      <td>...</td>\n",
       "      <td>1</td>\n",
       "      <td>999</td>\n",
       "      <td>0</td>\n",
       "      <td>nonexistent</td>\n",
       "      <td>1.1</td>\n",
       "      <td>93.994</td>\n",
       "      <td>-36.4</td>\n",
       "      <td>4.857</td>\n",
       "      <td>5191.0</td>\n",
       "      <td>no</td>\n",
       "    </tr>\n",
       "    <tr>\n",
       "      <th>2</th>\n",
       "      <td>37</td>\n",
       "      <td>services</td>\n",
       "      <td>married</td>\n",
       "      <td>high.school</td>\n",
       "      <td>no</td>\n",
       "      <td>yes</td>\n",
       "      <td>no</td>\n",
       "      <td>telephone</td>\n",
       "      <td>may</td>\n",
       "      <td>mon</td>\n",
       "      <td>...</td>\n",
       "      <td>1</td>\n",
       "      <td>999</td>\n",
       "      <td>0</td>\n",
       "      <td>nonexistent</td>\n",
       "      <td>1.1</td>\n",
       "      <td>93.994</td>\n",
       "      <td>-36.4</td>\n",
       "      <td>4.857</td>\n",
       "      <td>5191.0</td>\n",
       "      <td>no</td>\n",
       "    </tr>\n",
       "    <tr>\n",
       "      <th>3</th>\n",
       "      <td>40</td>\n",
       "      <td>admin.</td>\n",
       "      <td>married</td>\n",
       "      <td>basic.6y</td>\n",
       "      <td>no</td>\n",
       "      <td>no</td>\n",
       "      <td>no</td>\n",
       "      <td>telephone</td>\n",
       "      <td>may</td>\n",
       "      <td>mon</td>\n",
       "      <td>...</td>\n",
       "      <td>1</td>\n",
       "      <td>999</td>\n",
       "      <td>0</td>\n",
       "      <td>nonexistent</td>\n",
       "      <td>1.1</td>\n",
       "      <td>93.994</td>\n",
       "      <td>-36.4</td>\n",
       "      <td>4.857</td>\n",
       "      <td>5191.0</td>\n",
       "      <td>no</td>\n",
       "    </tr>\n",
       "    <tr>\n",
       "      <th>4</th>\n",
       "      <td>56</td>\n",
       "      <td>services</td>\n",
       "      <td>married</td>\n",
       "      <td>high.school</td>\n",
       "      <td>no</td>\n",
       "      <td>no</td>\n",
       "      <td>yes</td>\n",
       "      <td>telephone</td>\n",
       "      <td>may</td>\n",
       "      <td>mon</td>\n",
       "      <td>...</td>\n",
       "      <td>1</td>\n",
       "      <td>999</td>\n",
       "      <td>0</td>\n",
       "      <td>nonexistent</td>\n",
       "      <td>1.1</td>\n",
       "      <td>93.994</td>\n",
       "      <td>-36.4</td>\n",
       "      <td>4.857</td>\n",
       "      <td>5191.0</td>\n",
       "      <td>no</td>\n",
       "    </tr>\n",
       "  </tbody>\n",
       "</table>\n",
       "<p>5 rows × 21 columns</p>\n",
       "</div>"
      ],
      "text/plain": [
       "   age        job  marital    education  default housing loan    contact  \\\n",
       "0   56  housemaid  married     basic.4y       no      no   no  telephone   \n",
       "1   57   services  married  high.school  unknown      no   no  telephone   \n",
       "2   37   services  married  high.school       no     yes   no  telephone   \n",
       "3   40     admin.  married     basic.6y       no      no   no  telephone   \n",
       "4   56   services  married  high.school       no      no  yes  telephone   \n",
       "\n",
       "  month day_of_week  ...  campaign  pdays  previous     poutcome emp.var.rate  \\\n",
       "0   may         mon  ...         1    999         0  nonexistent          1.1   \n",
       "1   may         mon  ...         1    999         0  nonexistent          1.1   \n",
       "2   may         mon  ...         1    999         0  nonexistent          1.1   \n",
       "3   may         mon  ...         1    999         0  nonexistent          1.1   \n",
       "4   may         mon  ...         1    999         0  nonexistent          1.1   \n",
       "\n",
       "   cons.price.idx  cons.conf.idx  euribor3m  nr.employed   y  \n",
       "0          93.994          -36.4      4.857       5191.0  no  \n",
       "1          93.994          -36.4      4.857       5191.0  no  \n",
       "2          93.994          -36.4      4.857       5191.0  no  \n",
       "3          93.994          -36.4      4.857       5191.0  no  \n",
       "4          93.994          -36.4      4.857       5191.0  no  \n",
       "\n",
       "[5 rows x 21 columns]"
      ]
     },
     "execution_count": 2,
     "metadata": {},
     "output_type": "execute_result"
    }
   ],
   "source": [
    "data_df = pd.read_csv(\"bank-additional-full.csv\",sep=\";\")\n",
    "data_df.head()"
   ]
  },
  {
   "cell_type": "code",
   "execution_count": 3,
   "metadata": {
    "scrolled": false
   },
   "outputs": [
    {
     "data": {
      "text/html": [
       "<div>\n",
       "<style scoped>\n",
       "    .dataframe tbody tr th:only-of-type {\n",
       "        vertical-align: middle;\n",
       "    }\n",
       "\n",
       "    .dataframe tbody tr th {\n",
       "        vertical-align: top;\n",
       "    }\n",
       "\n",
       "    .dataframe thead th {\n",
       "        text-align: right;\n",
       "    }\n",
       "</style>\n",
       "<table border=\"1\" class=\"dataframe\">\n",
       "  <thead>\n",
       "    <tr style=\"text-align: right;\">\n",
       "      <th></th>\n",
       "      <th>age</th>\n",
       "      <th>job</th>\n",
       "      <th>marital</th>\n",
       "      <th>education</th>\n",
       "      <th>default</th>\n",
       "      <th>housing</th>\n",
       "      <th>loan</th>\n",
       "      <th>contact</th>\n",
       "      <th>month</th>\n",
       "      <th>day_of_week</th>\n",
       "      <th>...</th>\n",
       "      <th>campaign</th>\n",
       "      <th>pdays</th>\n",
       "      <th>previous</th>\n",
       "      <th>poutcome</th>\n",
       "      <th>emp.var.rate</th>\n",
       "      <th>cons.price.idx</th>\n",
       "      <th>cons.conf.idx</th>\n",
       "      <th>euribor3m</th>\n",
       "      <th>nr.employed</th>\n",
       "      <th>y</th>\n",
       "    </tr>\n",
       "  </thead>\n",
       "  <tbody>\n",
       "    <tr>\n",
       "      <th>41183</th>\n",
       "      <td>73</td>\n",
       "      <td>retired</td>\n",
       "      <td>married</td>\n",
       "      <td>professional.course</td>\n",
       "      <td>no</td>\n",
       "      <td>yes</td>\n",
       "      <td>no</td>\n",
       "      <td>cellular</td>\n",
       "      <td>nov</td>\n",
       "      <td>fri</td>\n",
       "      <td>...</td>\n",
       "      <td>1</td>\n",
       "      <td>999</td>\n",
       "      <td>0</td>\n",
       "      <td>nonexistent</td>\n",
       "      <td>-1.1</td>\n",
       "      <td>94.767</td>\n",
       "      <td>-50.8</td>\n",
       "      <td>1.028</td>\n",
       "      <td>4963.6</td>\n",
       "      <td>yes</td>\n",
       "    </tr>\n",
       "    <tr>\n",
       "      <th>41184</th>\n",
       "      <td>46</td>\n",
       "      <td>blue-collar</td>\n",
       "      <td>married</td>\n",
       "      <td>professional.course</td>\n",
       "      <td>no</td>\n",
       "      <td>no</td>\n",
       "      <td>no</td>\n",
       "      <td>cellular</td>\n",
       "      <td>nov</td>\n",
       "      <td>fri</td>\n",
       "      <td>...</td>\n",
       "      <td>1</td>\n",
       "      <td>999</td>\n",
       "      <td>0</td>\n",
       "      <td>nonexistent</td>\n",
       "      <td>-1.1</td>\n",
       "      <td>94.767</td>\n",
       "      <td>-50.8</td>\n",
       "      <td>1.028</td>\n",
       "      <td>4963.6</td>\n",
       "      <td>no</td>\n",
       "    </tr>\n",
       "    <tr>\n",
       "      <th>41185</th>\n",
       "      <td>56</td>\n",
       "      <td>retired</td>\n",
       "      <td>married</td>\n",
       "      <td>university.degree</td>\n",
       "      <td>no</td>\n",
       "      <td>yes</td>\n",
       "      <td>no</td>\n",
       "      <td>cellular</td>\n",
       "      <td>nov</td>\n",
       "      <td>fri</td>\n",
       "      <td>...</td>\n",
       "      <td>2</td>\n",
       "      <td>999</td>\n",
       "      <td>0</td>\n",
       "      <td>nonexistent</td>\n",
       "      <td>-1.1</td>\n",
       "      <td>94.767</td>\n",
       "      <td>-50.8</td>\n",
       "      <td>1.028</td>\n",
       "      <td>4963.6</td>\n",
       "      <td>no</td>\n",
       "    </tr>\n",
       "    <tr>\n",
       "      <th>41186</th>\n",
       "      <td>44</td>\n",
       "      <td>technician</td>\n",
       "      <td>married</td>\n",
       "      <td>professional.course</td>\n",
       "      <td>no</td>\n",
       "      <td>no</td>\n",
       "      <td>no</td>\n",
       "      <td>cellular</td>\n",
       "      <td>nov</td>\n",
       "      <td>fri</td>\n",
       "      <td>...</td>\n",
       "      <td>1</td>\n",
       "      <td>999</td>\n",
       "      <td>0</td>\n",
       "      <td>nonexistent</td>\n",
       "      <td>-1.1</td>\n",
       "      <td>94.767</td>\n",
       "      <td>-50.8</td>\n",
       "      <td>1.028</td>\n",
       "      <td>4963.6</td>\n",
       "      <td>yes</td>\n",
       "    </tr>\n",
       "    <tr>\n",
       "      <th>41187</th>\n",
       "      <td>74</td>\n",
       "      <td>retired</td>\n",
       "      <td>married</td>\n",
       "      <td>professional.course</td>\n",
       "      <td>no</td>\n",
       "      <td>yes</td>\n",
       "      <td>no</td>\n",
       "      <td>cellular</td>\n",
       "      <td>nov</td>\n",
       "      <td>fri</td>\n",
       "      <td>...</td>\n",
       "      <td>3</td>\n",
       "      <td>999</td>\n",
       "      <td>1</td>\n",
       "      <td>failure</td>\n",
       "      <td>-1.1</td>\n",
       "      <td>94.767</td>\n",
       "      <td>-50.8</td>\n",
       "      <td>1.028</td>\n",
       "      <td>4963.6</td>\n",
       "      <td>no</td>\n",
       "    </tr>\n",
       "  </tbody>\n",
       "</table>\n",
       "<p>5 rows × 21 columns</p>\n",
       "</div>"
      ],
      "text/plain": [
       "       age          job  marital            education default housing loan  \\\n",
       "41183   73      retired  married  professional.course      no     yes   no   \n",
       "41184   46  blue-collar  married  professional.course      no      no   no   \n",
       "41185   56      retired  married    university.degree      no     yes   no   \n",
       "41186   44   technician  married  professional.course      no      no   no   \n",
       "41187   74      retired  married  professional.course      no     yes   no   \n",
       "\n",
       "        contact month day_of_week  ...  campaign  pdays  previous  \\\n",
       "41183  cellular   nov         fri  ...         1    999         0   \n",
       "41184  cellular   nov         fri  ...         1    999         0   \n",
       "41185  cellular   nov         fri  ...         2    999         0   \n",
       "41186  cellular   nov         fri  ...         1    999         0   \n",
       "41187  cellular   nov         fri  ...         3    999         1   \n",
       "\n",
       "          poutcome emp.var.rate  cons.price.idx  cons.conf.idx  euribor3m  \\\n",
       "41183  nonexistent         -1.1          94.767          -50.8      1.028   \n",
       "41184  nonexistent         -1.1          94.767          -50.8      1.028   \n",
       "41185  nonexistent         -1.1          94.767          -50.8      1.028   \n",
       "41186  nonexistent         -1.1          94.767          -50.8      1.028   \n",
       "41187      failure         -1.1          94.767          -50.8      1.028   \n",
       "\n",
       "       nr.employed    y  \n",
       "41183       4963.6  yes  \n",
       "41184       4963.6   no  \n",
       "41185       4963.6   no  \n",
       "41186       4963.6  yes  \n",
       "41187       4963.6   no  \n",
       "\n",
       "[5 rows x 21 columns]"
      ]
     },
     "execution_count": 3,
     "metadata": {},
     "output_type": "execute_result"
    }
   ],
   "source": [
    "data_df.tail()"
   ]
  },
  {
   "cell_type": "code",
   "execution_count": 4,
   "metadata": {
    "scrolled": false
   },
   "outputs": [
    {
     "name": "stdout",
     "output_type": "stream",
     "text": [
      "<class 'pandas.core.frame.DataFrame'>\n",
      "RangeIndex: 41188 entries, 0 to 41187\n",
      "Data columns (total 21 columns):\n",
      " #   Column          Non-Null Count  Dtype  \n",
      "---  ------          --------------  -----  \n",
      " 0   age             41188 non-null  int64  \n",
      " 1   job             41188 non-null  object \n",
      " 2   marital         41188 non-null  object \n",
      " 3   education       41188 non-null  object \n",
      " 4   default         41188 non-null  object \n",
      " 5   housing         41188 non-null  object \n",
      " 6   loan            41188 non-null  object \n",
      " 7   contact         41188 non-null  object \n",
      " 8   month           41188 non-null  object \n",
      " 9   day_of_week     41188 non-null  object \n",
      " 10  duration        41188 non-null  int64  \n",
      " 11  campaign        41188 non-null  int64  \n",
      " 12  pdays           41188 non-null  int64  \n",
      " 13  previous        41188 non-null  int64  \n",
      " 14  poutcome        41188 non-null  object \n",
      " 15  emp.var.rate    41188 non-null  float64\n",
      " 16  cons.price.idx  41188 non-null  float64\n",
      " 17  cons.conf.idx   41188 non-null  float64\n",
      " 18  euribor3m       41188 non-null  float64\n",
      " 19  nr.employed     41188 non-null  float64\n",
      " 20  y               41188 non-null  object \n",
      "dtypes: float64(5), int64(5), object(11)\n",
      "memory usage: 6.6+ MB\n"
     ]
    }
   ],
   "source": [
    "data_df.info()"
   ]
  },
  {
   "cell_type": "markdown",
   "metadata": {},
   "source": [
    "### Observation\n",
    "1.Total of 21 columns\n",
    "   * 10 numerical columns\n",
    "   * 11 categorical columns\n",
    "\n",
    "2.Total of 41188 rows"
   ]
  },
  {
   "cell_type": "code",
   "execution_count": 5,
   "metadata": {
    "scrolled": false
   },
   "outputs": [],
   "source": [
    "#The duration column had to be dropped as adviced in the data description\n",
    "data_df.drop('duration',axis=1,inplace=True)\n",
    "\n",
    "#for the pdays column,we set the 999 to 0 to indicate no previous contact\n",
    "data_df.pdays = data_df.pdays.replace({999: 0})"
   ]
  },
  {
   "cell_type": "code",
   "execution_count": 6,
   "metadata": {
    "scrolled": false
   },
   "outputs": [],
   "source": [
    "#Splitting the features into numerical and categorical columns\n",
    "#This will help in the exploratory analysis\n",
    "\n",
    "numeric_col = data_df[['age','campaign','pdays','previous','emp.var.rate','cons.price.idx','cons.conf.idx','euribor3m','nr.employed']]\n",
    "categorical_col = data_df.drop(numeric_col,axis=1)"
   ]
  },
  {
   "cell_type": "code",
   "execution_count": 7,
   "metadata": {
    "scrolled": false
   },
   "outputs": [
    {
     "name": "stdout",
     "output_type": "stream",
     "text": [
      "<class 'pandas.core.frame.DataFrame'>\n",
      "RangeIndex: 41188 entries, 0 to 41187\n",
      "Data columns (total 9 columns):\n",
      " #   Column          Non-Null Count  Dtype  \n",
      "---  ------          --------------  -----  \n",
      " 0   age             41188 non-null  int64  \n",
      " 1   campaign        41188 non-null  int64  \n",
      " 2   pdays           41188 non-null  int64  \n",
      " 3   previous        41188 non-null  int64  \n",
      " 4   emp.var.rate    41188 non-null  float64\n",
      " 5   cons.price.idx  41188 non-null  float64\n",
      " 6   cons.conf.idx   41188 non-null  float64\n",
      " 7   euribor3m       41188 non-null  float64\n",
      " 8   nr.employed     41188 non-null  float64\n",
      "dtypes: float64(5), int64(4)\n",
      "memory usage: 2.8 MB\n"
     ]
    }
   ],
   "source": [
    "numeric_col.info()"
   ]
  },
  {
   "cell_type": "code",
   "execution_count": 8,
   "metadata": {
    "scrolled": false
   },
   "outputs": [
    {
     "name": "stdout",
     "output_type": "stream",
     "text": [
      "<class 'pandas.core.frame.DataFrame'>\n",
      "RangeIndex: 41188 entries, 0 to 41187\n",
      "Data columns (total 11 columns):\n",
      " #   Column       Non-Null Count  Dtype \n",
      "---  ------       --------------  ----- \n",
      " 0   job          41188 non-null  object\n",
      " 1   marital      41188 non-null  object\n",
      " 2   education    41188 non-null  object\n",
      " 3   default      41188 non-null  object\n",
      " 4   housing      41188 non-null  object\n",
      " 5   loan         41188 non-null  object\n",
      " 6   contact      41188 non-null  object\n",
      " 7   month        41188 non-null  object\n",
      " 8   day_of_week  41188 non-null  object\n",
      " 9   poutcome     41188 non-null  object\n",
      " 10  y            41188 non-null  object\n",
      "dtypes: object(11)\n",
      "memory usage: 3.5+ MB\n"
     ]
    }
   ],
   "source": [
    "categorical_col.info()"
   ]
  },
  {
   "cell_type": "markdown",
   "metadata": {},
   "source": [
    "## Statistical Analysis of our data"
   ]
  },
  {
   "cell_type": "code",
   "execution_count": 9,
   "metadata": {
    "scrolled": false
   },
   "outputs": [
    {
     "data": {
      "text/html": [
       "<div>\n",
       "<style scoped>\n",
       "    .dataframe tbody tr th:only-of-type {\n",
       "        vertical-align: middle;\n",
       "    }\n",
       "\n",
       "    .dataframe tbody tr th {\n",
       "        vertical-align: top;\n",
       "    }\n",
       "\n",
       "    .dataframe thead th {\n",
       "        text-align: right;\n",
       "    }\n",
       "</style>\n",
       "<table border=\"1\" class=\"dataframe\">\n",
       "  <thead>\n",
       "    <tr style=\"text-align: right;\">\n",
       "      <th></th>\n",
       "      <th>Mean</th>\n",
       "      <th>Mode</th>\n",
       "      <th>Median</th>\n",
       "    </tr>\n",
       "  </thead>\n",
       "  <tbody>\n",
       "    <tr>\n",
       "      <th>age</th>\n",
       "      <td>40.024060</td>\n",
       "      <td>31.000</td>\n",
       "      <td>38.000</td>\n",
       "    </tr>\n",
       "    <tr>\n",
       "      <th>campaign</th>\n",
       "      <td>2.567593</td>\n",
       "      <td>1.000</td>\n",
       "      <td>2.000</td>\n",
       "    </tr>\n",
       "    <tr>\n",
       "      <th>pdays</th>\n",
       "      <td>0.221229</td>\n",
       "      <td>0.000</td>\n",
       "      <td>0.000</td>\n",
       "    </tr>\n",
       "    <tr>\n",
       "      <th>previous</th>\n",
       "      <td>0.172963</td>\n",
       "      <td>0.000</td>\n",
       "      <td>0.000</td>\n",
       "    </tr>\n",
       "    <tr>\n",
       "      <th>emp.var.rate</th>\n",
       "      <td>0.081886</td>\n",
       "      <td>1.400</td>\n",
       "      <td>1.100</td>\n",
       "    </tr>\n",
       "    <tr>\n",
       "      <th>cons.price.idx</th>\n",
       "      <td>93.575664</td>\n",
       "      <td>93.994</td>\n",
       "      <td>93.749</td>\n",
       "    </tr>\n",
       "    <tr>\n",
       "      <th>cons.conf.idx</th>\n",
       "      <td>-40.502600</td>\n",
       "      <td>-36.400</td>\n",
       "      <td>-41.800</td>\n",
       "    </tr>\n",
       "    <tr>\n",
       "      <th>euribor3m</th>\n",
       "      <td>3.621291</td>\n",
       "      <td>4.857</td>\n",
       "      <td>4.857</td>\n",
       "    </tr>\n",
       "    <tr>\n",
       "      <th>nr.employed</th>\n",
       "      <td>5167.035911</td>\n",
       "      <td>5228.100</td>\n",
       "      <td>5191.000</td>\n",
       "    </tr>\n",
       "  </tbody>\n",
       "</table>\n",
       "</div>"
      ],
      "text/plain": [
       "                       Mean      Mode    Median\n",
       "age               40.024060    31.000    38.000\n",
       "campaign           2.567593     1.000     2.000\n",
       "pdays              0.221229     0.000     0.000\n",
       "previous           0.172963     0.000     0.000\n",
       "emp.var.rate       0.081886     1.400     1.100\n",
       "cons.price.idx    93.575664    93.994    93.749\n",
       "cons.conf.idx    -40.502600   -36.400   -41.800\n",
       "euribor3m          3.621291     4.857     4.857\n",
       "nr.employed     5167.035911  5228.100  5191.000"
      ]
     },
     "execution_count": 9,
     "metadata": {},
     "output_type": "execute_result"
    }
   ],
   "source": [
    "stats_df = pd.DataFrame(columns=['Mean','Mode','Median'])\n",
    "for column in numeric_col:\n",
    "    if pd.api.types.is_numeric_dtype(data_df[column]):\n",
    "        stats_df.loc[column] = [data_df[column].mean(),data_df[column].mode().values[0],\n",
    "                                data_df[column].median()]\n",
    "stats_df"
   ]
  },
  {
   "cell_type": "code",
   "execution_count": 10,
   "metadata": {
    "scrolled": false
   },
   "outputs": [
    {
     "data": {
      "text/html": [
       "<div>\n",
       "<style scoped>\n",
       "    .dataframe tbody tr th:only-of-type {\n",
       "        vertical-align: middle;\n",
       "    }\n",
       "\n",
       "    .dataframe tbody tr th {\n",
       "        vertical-align: top;\n",
       "    }\n",
       "\n",
       "    .dataframe thead th {\n",
       "        text-align: right;\n",
       "    }\n",
       "</style>\n",
       "<table border=\"1\" class=\"dataframe\">\n",
       "  <thead>\n",
       "    <tr style=\"text-align: right;\">\n",
       "      <th></th>\n",
       "      <th>Min</th>\n",
       "      <th>25th_percentile</th>\n",
       "      <th>Mean</th>\n",
       "      <th>75th_percentile</th>\n",
       "      <th>Max</th>\n",
       "    </tr>\n",
       "  </thead>\n",
       "  <tbody>\n",
       "    <tr>\n",
       "      <th>age</th>\n",
       "      <td>17.000</td>\n",
       "      <td>32.000</td>\n",
       "      <td>40.024060</td>\n",
       "      <td>47.000</td>\n",
       "      <td>98.000</td>\n",
       "    </tr>\n",
       "    <tr>\n",
       "      <th>campaign</th>\n",
       "      <td>1.000</td>\n",
       "      <td>1.000</td>\n",
       "      <td>2.567593</td>\n",
       "      <td>3.000</td>\n",
       "      <td>56.000</td>\n",
       "    </tr>\n",
       "    <tr>\n",
       "      <th>pdays</th>\n",
       "      <td>0.000</td>\n",
       "      <td>0.000</td>\n",
       "      <td>0.221229</td>\n",
       "      <td>0.000</td>\n",
       "      <td>27.000</td>\n",
       "    </tr>\n",
       "    <tr>\n",
       "      <th>previous</th>\n",
       "      <td>0.000</td>\n",
       "      <td>0.000</td>\n",
       "      <td>0.172963</td>\n",
       "      <td>0.000</td>\n",
       "      <td>7.000</td>\n",
       "    </tr>\n",
       "    <tr>\n",
       "      <th>emp.var.rate</th>\n",
       "      <td>-3.400</td>\n",
       "      <td>-1.800</td>\n",
       "      <td>0.081886</td>\n",
       "      <td>1.400</td>\n",
       "      <td>1.400</td>\n",
       "    </tr>\n",
       "    <tr>\n",
       "      <th>cons.price.idx</th>\n",
       "      <td>92.201</td>\n",
       "      <td>93.075</td>\n",
       "      <td>93.575664</td>\n",
       "      <td>93.994</td>\n",
       "      <td>94.767</td>\n",
       "    </tr>\n",
       "    <tr>\n",
       "      <th>cons.conf.idx</th>\n",
       "      <td>-50.800</td>\n",
       "      <td>-42.700</td>\n",
       "      <td>-40.502600</td>\n",
       "      <td>-36.400</td>\n",
       "      <td>-26.900</td>\n",
       "    </tr>\n",
       "    <tr>\n",
       "      <th>euribor3m</th>\n",
       "      <td>0.634</td>\n",
       "      <td>1.344</td>\n",
       "      <td>3.621291</td>\n",
       "      <td>4.961</td>\n",
       "      <td>5.045</td>\n",
       "    </tr>\n",
       "    <tr>\n",
       "      <th>nr.employed</th>\n",
       "      <td>4963.600</td>\n",
       "      <td>5099.100</td>\n",
       "      <td>5167.035911</td>\n",
       "      <td>5228.100</td>\n",
       "      <td>5228.100</td>\n",
       "    </tr>\n",
       "  </tbody>\n",
       "</table>\n",
       "</div>"
      ],
      "text/plain": [
       "                     Min  25th_percentile         Mean  75th_percentile  \\\n",
       "age               17.000           32.000    40.024060           47.000   \n",
       "campaign           1.000            1.000     2.567593            3.000   \n",
       "pdays              0.000            0.000     0.221229            0.000   \n",
       "previous           0.000            0.000     0.172963            0.000   \n",
       "emp.var.rate      -3.400           -1.800     0.081886            1.400   \n",
       "cons.price.idx    92.201           93.075    93.575664           93.994   \n",
       "cons.conf.idx    -50.800          -42.700   -40.502600          -36.400   \n",
       "euribor3m          0.634            1.344     3.621291            4.961   \n",
       "nr.employed     4963.600         5099.100  5167.035911         5228.100   \n",
       "\n",
       "                     Max  \n",
       "age               98.000  \n",
       "campaign          56.000  \n",
       "pdays             27.000  \n",
       "previous           7.000  \n",
       "emp.var.rate       1.400  \n",
       "cons.price.idx    94.767  \n",
       "cons.conf.idx    -26.900  \n",
       "euribor3m          5.045  \n",
       "nr.employed     5228.100  "
      ]
     },
     "execution_count": 10,
     "metadata": {},
     "output_type": "execute_result"
    }
   ],
   "source": [
    "stats_df = pd.DataFrame(columns=['Min','25th_percentile','Mean','75th_percentile','Max'])\n",
    "for column in numeric_col:\n",
    "    if pd.api.types.is_numeric_dtype(data_df[column]):\n",
    "        stats_df.loc[column] = [data_df[column].min(),data_df[column].quantile(0.25),data_df[column].mean(),data_df[column].quantile(0.75),data_df[column].max()]\n",
    "stats_df    "
   ]
  },
  {
   "cell_type": "markdown",
   "metadata": {},
   "source": [
    "### Observation\n",
    "* The youngest person is 17 years while the oldest is 98 years\n",
    "* The average age is 40 years\n",
    "* the call duration in average was 258 seconds\n",
    "* The longest call lasted 4918 seconds while the lowest call lasted 0 seconds,does this mean\n",
    "  no contact?\n",
    "* During the campaign clients were contacted atleast once,while the most a client was contacted is 56 times\n",
    "* On average clients were contacted 2 times\n",
    "* Before this campaign,most clients were never contacted,while the most times a client was contacted was 7 times\n"
   ]
  },
  {
   "cell_type": "code",
   "execution_count": 11,
   "metadata": {
    "scrolled": false
   },
   "outputs": [
    {
     "data": {
      "text/html": [
       "<div>\n",
       "<style scoped>\n",
       "    .dataframe tbody tr th:only-of-type {\n",
       "        vertical-align: middle;\n",
       "    }\n",
       "\n",
       "    .dataframe tbody tr th {\n",
       "        vertical-align: top;\n",
       "    }\n",
       "\n",
       "    .dataframe thead th {\n",
       "        text-align: right;\n",
       "    }\n",
       "</style>\n",
       "<table border=\"1\" class=\"dataframe\">\n",
       "  <thead>\n",
       "    <tr style=\"text-align: right;\">\n",
       "      <th></th>\n",
       "      <th>Outlier_Count</th>\n",
       "      <th>skewness</th>\n",
       "    </tr>\n",
       "  </thead>\n",
       "  <tbody>\n",
       "    <tr>\n",
       "      <th>age</th>\n",
       "      <td>469.0</td>\n",
       "      <td>0.784697</td>\n",
       "    </tr>\n",
       "    <tr>\n",
       "      <th>campaign</th>\n",
       "      <td>2406.0</td>\n",
       "      <td>4.762507</td>\n",
       "    </tr>\n",
       "    <tr>\n",
       "      <th>pdays</th>\n",
       "      <td>1500.0</td>\n",
       "      <td>7.939537</td>\n",
       "    </tr>\n",
       "    <tr>\n",
       "      <th>previous</th>\n",
       "      <td>5625.0</td>\n",
       "      <td>3.832042</td>\n",
       "    </tr>\n",
       "    <tr>\n",
       "      <th>emp.var.rate</th>\n",
       "      <td>0.0</td>\n",
       "      <td>-0.724096</td>\n",
       "    </tr>\n",
       "    <tr>\n",
       "      <th>cons.price.idx</th>\n",
       "      <td>0.0</td>\n",
       "      <td>-0.230888</td>\n",
       "    </tr>\n",
       "    <tr>\n",
       "      <th>cons.conf.idx</th>\n",
       "      <td>447.0</td>\n",
       "      <td>0.303180</td>\n",
       "    </tr>\n",
       "    <tr>\n",
       "      <th>euribor3m</th>\n",
       "      <td>0.0</td>\n",
       "      <td>-0.709188</td>\n",
       "    </tr>\n",
       "    <tr>\n",
       "      <th>nr.employed</th>\n",
       "      <td>0.0</td>\n",
       "      <td>-1.044262</td>\n",
       "    </tr>\n",
       "  </tbody>\n",
       "</table>\n",
       "</div>"
      ],
      "text/plain": [
       "                Outlier_Count  skewness\n",
       "age                     469.0  0.784697\n",
       "campaign               2406.0  4.762507\n",
       "pdays                  1500.0  7.939537\n",
       "previous               5625.0  3.832042\n",
       "emp.var.rate              0.0 -0.724096\n",
       "cons.price.idx            0.0 -0.230888\n",
       "cons.conf.idx           447.0  0.303180\n",
       "euribor3m                 0.0 -0.709188\n",
       "nr.employed               0.0 -1.044262"
      ]
     },
     "execution_count": 11,
     "metadata": {},
     "output_type": "execute_result"
    }
   ],
   "source": [
    "#checking for missing values in the numerical columns\n",
    "outliers_count_df = pd.DataFrame(columns=['Outlier_Count','skewness'])\n",
    "for column in numeric_col:\n",
    "    if pd.api.types.is_numeric_dtype(numeric_col[column]):\n",
    "        Q1 = numeric_col[column].quantile(0.25)\n",
    "        Q3 = numeric_col[column].quantile(0.75)\n",
    "        IQR = Q3-Q1\n",
    "        lower_whisker = Q1-1.5*IQR\n",
    "        upper_whisker = Q3+1.5*IQR\n",
    "        outliers_count_df.loc[column] = [((numeric_col[column]<lower_whisker) | (numeric_col[column] > upper_whisker)).sum(),numeric_col[column].skew()]\n",
    "outliers_count_df"
   ]
  },
  {
   "cell_type": "markdown",
   "metadata": {},
   "source": [
    "### Observations\n",
    "* We have columns with outliers,this columns seemed to be highly skewed depending on the outliers count"
   ]
  },
  {
   "cell_type": "code",
   "execution_count": 12,
   "metadata": {
    "scrolled": false
   },
   "outputs": [
    {
     "data": {
      "text/html": [
       "<div>\n",
       "<style scoped>\n",
       "    .dataframe tbody tr th:only-of-type {\n",
       "        vertical-align: middle;\n",
       "    }\n",
       "\n",
       "    .dataframe tbody tr th {\n",
       "        vertical-align: top;\n",
       "    }\n",
       "\n",
       "    .dataframe thead th {\n",
       "        text-align: right;\n",
       "    }\n",
       "</style>\n",
       "<table border=\"1\" class=\"dataframe\">\n",
       "  <thead>\n",
       "    <tr style=\"text-align: right;\">\n",
       "      <th></th>\n",
       "      <th>age</th>\n",
       "      <th>campaign</th>\n",
       "      <th>pdays</th>\n",
       "      <th>previous</th>\n",
       "      <th>cons.conf.idx</th>\n",
       "    </tr>\n",
       "  </thead>\n",
       "  <tbody>\n",
       "    <tr>\n",
       "      <th>Outlier_Count</th>\n",
       "      <td>469.000000</td>\n",
       "      <td>2406.000000</td>\n",
       "      <td>1500.000000</td>\n",
       "      <td>5625.000000</td>\n",
       "      <td>447.00000</td>\n",
       "    </tr>\n",
       "    <tr>\n",
       "      <th>skewness</th>\n",
       "      <td>0.784697</td>\n",
       "      <td>4.762507</td>\n",
       "      <td>7.939537</td>\n",
       "      <td>3.832042</td>\n",
       "      <td>0.30318</td>\n",
       "    </tr>\n",
       "  </tbody>\n",
       "</table>\n",
       "</div>"
      ],
      "text/plain": [
       "                      age     campaign        pdays     previous  \\\n",
       "Outlier_Count  469.000000  2406.000000  1500.000000  5625.000000   \n",
       "skewness         0.784697     4.762507     7.939537     3.832042   \n",
       "\n",
       "               cons.conf.idx  \n",
       "Outlier_Count      447.00000  \n",
       "skewness             0.30318  "
      ]
     },
     "execution_count": 12,
     "metadata": {},
     "output_type": "execute_result"
    }
   ],
   "source": [
    "#selecting numerical columns with outliers\n",
    "outlier_col = outliers_count_df[outliers_count_df['Outlier_Count']>=1]\n",
    "outlier_col = outlier_col.T\n",
    "outlier_col"
   ]
  },
  {
   "cell_type": "code",
   "execution_count": 13,
   "metadata": {
    "scrolled": true
   },
   "outputs": [
    {
     "data": {
      "image/png": "[encoded data removed]",
      "text/plain": [
       "<Figure size 432x288 with 1 Axes>"
      ]
     },
     "metadata": {
      "needs_background": "light"
     },
     "output_type": "display_data"
    },
    {
     "data": {
      "image/png": "[encoded data removed]",
      "text/plain": [
       "<Figure size 432x288 with 1 Axes>"
      ]
     },
     "metadata": {
      "needs_background": "light"
     },
     "output_type": "display_data"
    },
    {
     "data": {
      "image/png": "[encoded data removed]",
      "text/plain": [
       "<Figure size 432x288 with 1 Axes>"
      ]
     },
     "metadata": {
      "needs_background": "light"
     },
     "output_type": "display_data"
    },
    {
     "data": {
      "image/png": "[encoded data removed]",
      "text/plain": [
       "<Figure size 432x288 with 1 Axes>"
      ]
     },
     "metadata": {
      "needs_background": "light"
     },
     "output_type": "display_data"
    },
    {
     "data": {
      "image/png": "[encoded data removed]",
      "text/plain": [
       "<Figure size 432x288 with 1 Axes>"
      ]
     },
     "metadata": {
      "needs_background": "light"
     },
     "output_type": "display_data"
    },
    {
     "data": {
      "image/png": "[encoded data removed]",
      "text/plain": [
       "<Figure size 432x288 with 1 Axes>"
      ]
     },
     "metadata": {
      "needs_background": "light"
     },
     "output_type": "display_data"
    },
    {
     "data": {
      "image/png": "[encoded data removed]",
      "text/plain": [
       "<Figure size 432x288 with 1 Axes>"
      ]
     },
     "metadata": {
      "needs_background": "light"
     },
     "output_type": "display_data"
    },
    {
     "data": {
      "image/png": "[encoded data removed]",
      "text/plain": [
       "<Figure size 432x288 with 1 Axes>"
      ]
     },
     "metadata": {
      "needs_background": "light"
     },
     "output_type": "display_data"
    },
    {
     "data": {
      "image/png": "[encoded data removed]",
      "text/plain": [
       "<Figure size 432x288 with 1 Axes>"
      ]
     },
     "metadata": {
      "needs_background": "light"
     },
     "output_type": "display_data"
    }
   ],
   "source": [
    "for i,col in enumerate(numeric_col):\n",
    "    plt.figure(i)\n",
    "    sns.distplot(numeric_col[col])"
   ]
  },
  {
   "cell_type": "markdown",
   "metadata": {},
   "source": [
    "#### Age\n",
    "* Majority of the populations is between age 20 and 60\n",
    "* We have little data on ages 80 and above\n",
    "* Most people are between age 30 and 40\n",
    "\n",
    "#### duration\n",
    "* The data is highly skewed to the left\n",
    "* This was also shown in the statistical analysis that the column had many outliers\n",
    "* We may have to normalize this column\n",
    "\n",
    "#### campaign\n",
    "* The data is highly skewed to the left\n",
    "* This was also shown in the statistical analysis that the column had many outliers\n",
    "* We may have to normalize this column\n",
    "\n",
    "### pdays\n",
    "* This column need to be processed so that we put the 999 value as 0,from the description this \n",
    "  shows the client was never contacted\n",
    "* From the plot ,it seems most clients in this campaign were never contacted\n",
    "\n",
    "#### previous\n",
    "* The data is highly skewed to the left\n",
    "* This was also shown in the statistical analysis that the column had many outliers\n",
    "* We may have to normalize this column\n",
    "\n",
    "### For the remaing numerical columns,we need to further analyse them\n",
    "\n",
    "## Summary for Numerical Columns\n",
    "*# We have to deal with outliers in the select columns\n",
    "*# We have to normalize the data\n",
    "*# We have to scale the data as the columns have varying units of measurements"
   ]
  },
  {
   "cell_type": "code",
   "execution_count": 14,
   "metadata": {
    "scrolled": true
   },
   "outputs": [
    {
     "data": {
      "image/png": "[encoded data removed]",
      "text/plain": [
       "<Figure size 432x288 with 1 Axes>"
      ]
     },
     "metadata": {
      "needs_background": "light"
     },
     "output_type": "display_data"
    },
    {
     "data": {
      "image/png": "[encoded data removed]",
      "text/plain": [
       "<Figure size 432x288 with 1 Axes>"
      ]
     },
     "metadata": {
      "needs_background": "light"
     },
     "output_type": "display_data"
    },
    {
     "data": {
      "image/png": "[encoded data removed]",
      "text/plain": [
       "<Figure size 432x288 with 1 Axes>"
      ]
     },
     "metadata": {
      "needs_background": "light"
     },
     "output_type": "display_data"
    },
    {
     "data": {
      "image/png": "[encoded data removed]",
      "text/plain": [
       "<Figure size 432x288 with 1 Axes>"
      ]
     },
     "metadata": {
      "needs_background": "light"
     },
     "output_type": "display_data"
    },
    {
     "data": {
      "image/png": "[encoded data removed]",
      "text/plain": [
       "<Figure size 432x288 with 1 Axes>"
      ]
     },
     "metadata": {
      "needs_background": "light"
     },
     "output_type": "display_data"
    },
    {
     "data": {
      "image/png": "[encoded data removed]",
      "text/plain": [
       "<Figure size 432x288 with 1 Axes>"
      ]
     },
     "metadata": {
      "needs_background": "light"
     },
     "output_type": "display_data"
    },
    {
     "data": {
      "image/png": "[encoded data removed]",
      "text/plain": [
       "<Figure size 432x288 with 1 Axes>"
      ]
     },
     "metadata": {
      "needs_background": "light"
     },
     "output_type": "display_data"
    },
    {
     "data": {
      "image/png": "[encoded data removed]",
      "text/plain": [
       "<Figure size 432x288 with 1 Axes>"
      ]
     },
     "metadata": {
      "needs_background": "light"
     },
     "output_type": "display_data"
    },
    {
     "data": {
      "image/png": "[encoded data removed]",
      "text/plain": [
       "<Figure size 432x288 with 1 Axes>"
      ]
     },
     "metadata": {
      "needs_background": "light"
     },
     "output_type": "display_data"
    }
   ],
   "source": [
    "for i,z in enumerate(numeric_col):\n",
    "    plt.figure(i)\n",
    "    sns.distplot(data_df[z])"
   ]
  },
  {
   "cell_type": "code",
   "execution_count": 15,
   "metadata": {
    "scrolled": false
   },
   "outputs": [
    {
     "data": {
      "text/plain": [
       "<AxesSubplot:xlabel='y', ylabel='count'>"
      ]
     },
     "execution_count": 15,
     "metadata": {},
     "output_type": "execute_result"
    },
    {
     "data": {
      "image/png": "[encoded data removed]",
      "text/plain": [
       "<Figure size 432x288 with 1 Axes>"
      ]
     },
     "metadata": {
      "needs_background": "light"
     },
     "output_type": "display_data"
    }
   ],
   "source": [
    "### Exploring the target column\n",
    "sns.countplot(x=\"y\",data=data_df)"
   ]
  },
  {
   "cell_type": "code",
   "execution_count": 16,
   "metadata": {
    "scrolled": false
   },
   "outputs": [
    {
     "name": "stdout",
     "output_type": "stream",
     "text": [
      "percentage of no responses is 88.73458288821988\n",
      "percentage of yes responses 11.265417111780131\n"
     ]
    }
   ],
   "source": [
    "count_no_response = len(data_df[data_df['y']==\"no\"])\n",
    "count_yes_response = len(data_df[data_df['y']==\"yes\"])\n",
    "pct_of_no_sub = count_no_response/(len(data_df['y']))\n",
    "print(\"percentage of no responses is\", pct_of_no_sub*100)\n",
    "pct_of_sub = count_yes_response/(len(data_df['y']))\n",
    "print(\"percentage of yes responses\", pct_of_sub*100)"
   ]
  },
  {
   "cell_type": "markdown",
   "metadata": {},
   "source": [
    "#### Observation\n",
    "* Our data is highly imbalanced with no class having 91.4% and yes having 8.6%\n",
    "* we need to label encode our data"
   ]
  },
  {
   "cell_type": "code",
   "execution_count": 17,
   "metadata": {
    "scrolled": false
   },
   "outputs": [],
   "source": [
    "#Dealing with the imbalanced data\n"
   ]
  },
  {
   "cell_type": "markdown",
   "metadata": {},
   "source": [
    "### Statistical Analysis of Categorical Columns"
   ]
  },
  {
   "cell_type": "code",
   "execution_count": 18,
   "metadata": {
    "scrolled": false
   },
   "outputs": [
    {
     "data": {
      "text/html": [
       "<div>\n",
       "<style scoped>\n",
       "    .dataframe tbody tr th:only-of-type {\n",
       "        vertical-align: middle;\n",
       "    }\n",
       "\n",
       "    .dataframe tbody tr th {\n",
       "        vertical-align: top;\n",
       "    }\n",
       "\n",
       "    .dataframe thead th {\n",
       "        text-align: right;\n",
       "    }\n",
       "</style>\n",
       "<table border=\"1\" class=\"dataframe\">\n",
       "  <thead>\n",
       "    <tr style=\"text-align: right;\">\n",
       "      <th></th>\n",
       "      <th>Count</th>\n",
       "      <th>Missing</th>\n",
       "      <th>Unique</th>\n",
       "      <th>Dtype</th>\n",
       "      <th>Mode</th>\n",
       "    </tr>\n",
       "  </thead>\n",
       "  <tbody>\n",
       "    <tr>\n",
       "      <th>job</th>\n",
       "      <td>41188</td>\n",
       "      <td>0</td>\n",
       "      <td>12</td>\n",
       "      <td>object</td>\n",
       "      <td>admin.</td>\n",
       "    </tr>\n",
       "    <tr>\n",
       "      <th>marital</th>\n",
       "      <td>41188</td>\n",
       "      <td>0</td>\n",
       "      <td>4</td>\n",
       "      <td>object</td>\n",
       "      <td>married</td>\n",
       "    </tr>\n",
       "    <tr>\n",
       "      <th>education</th>\n",
       "      <td>41188</td>\n",
       "      <td>0</td>\n",
       "      <td>8</td>\n",
       "      <td>object</td>\n",
       "      <td>university.degree</td>\n",
       "    </tr>\n",
       "    <tr>\n",
       "      <th>default</th>\n",
       "      <td>41188</td>\n",
       "      <td>0</td>\n",
       "      <td>3</td>\n",
       "      <td>object</td>\n",
       "      <td>no</td>\n",
       "    </tr>\n",
       "    <tr>\n",
       "      <th>housing</th>\n",
       "      <td>41188</td>\n",
       "      <td>0</td>\n",
       "      <td>3</td>\n",
       "      <td>object</td>\n",
       "      <td>yes</td>\n",
       "    </tr>\n",
       "    <tr>\n",
       "      <th>loan</th>\n",
       "      <td>41188</td>\n",
       "      <td>0</td>\n",
       "      <td>3</td>\n",
       "      <td>object</td>\n",
       "      <td>no</td>\n",
       "    </tr>\n",
       "    <tr>\n",
       "      <th>contact</th>\n",
       "      <td>41188</td>\n",
       "      <td>0</td>\n",
       "      <td>2</td>\n",
       "      <td>object</td>\n",
       "      <td>cellular</td>\n",
       "    </tr>\n",
       "    <tr>\n",
       "      <th>month</th>\n",
       "      <td>41188</td>\n",
       "      <td>0</td>\n",
       "      <td>10</td>\n",
       "      <td>object</td>\n",
       "      <td>may</td>\n",
       "    </tr>\n",
       "    <tr>\n",
       "      <th>day_of_week</th>\n",
       "      <td>41188</td>\n",
       "      <td>0</td>\n",
       "      <td>5</td>\n",
       "      <td>object</td>\n",
       "      <td>thu</td>\n",
       "    </tr>\n",
       "    <tr>\n",
       "      <th>poutcome</th>\n",
       "      <td>41188</td>\n",
       "      <td>0</td>\n",
       "      <td>3</td>\n",
       "      <td>object</td>\n",
       "      <td>nonexistent</td>\n",
       "    </tr>\n",
       "  </tbody>\n",
       "</table>\n",
       "</div>"
      ],
      "text/plain": [
       "             Count Missing Unique   Dtype               Mode\n",
       "job          41188       0     12  object             admin.\n",
       "marital      41188       0      4  object            married\n",
       "education    41188       0      8  object  university.degree\n",
       "default      41188       0      3  object                 no\n",
       "housing      41188       0      3  object                yes\n",
       "loan         41188       0      3  object                 no\n",
       "contact      41188       0      2  object           cellular\n",
       "month        41188       0     10  object                may\n",
       "day_of_week  41188       0      5  object                thu\n",
       "poutcome     41188       0      3  object        nonexistent"
      ]
     },
     "execution_count": 18,
     "metadata": {},
     "output_type": "execute_result"
    }
   ],
   "source": [
    "stats_df = pd.DataFrame(columns=['Count','Missing','Unique','Dtype','Mode'])\n",
    "for column in categorical_col.drop('y',axis=1):\n",
    "    stats_df.loc[column] = [data_df[column].count(),data_df[column].isnull().sum(),data_df[column].nunique(),\n",
    "                                data_df[column].dtype,data_df[column].mode().values[0]]\n",
    "stats_df"
   ]
  },
  {
   "cell_type": "markdown",
   "metadata": {},
   "source": [
    "### Observation\n",
    "* We have no missing data in the categorical columns\n",
    "* The various categorical columns had varying number of unique values"
   ]
  },
  {
   "cell_type": "code",
   "execution_count": 19,
   "metadata": {
    "scrolled": false
   },
   "outputs": [
    {
     "data": {
      "text/html": [
       "<div>\n",
       "<style scoped>\n",
       "    .dataframe tbody tr th:only-of-type {\n",
       "        vertical-align: middle;\n",
       "    }\n",
       "\n",
       "    .dataframe tbody tr th {\n",
       "        vertical-align: top;\n",
       "    }\n",
       "\n",
       "    .dataframe thead th {\n",
       "        text-align: right;\n",
       "    }\n",
       "</style>\n",
       "<table border=\"1\" class=\"dataframe\">\n",
       "  <thead>\n",
       "    <tr style=\"text-align: right;\">\n",
       "      <th></th>\n",
       "      <th>age</th>\n",
       "      <th>campaign</th>\n",
       "      <th>pdays</th>\n",
       "      <th>previous</th>\n",
       "      <th>emp.var.rate</th>\n",
       "      <th>cons.price.idx</th>\n",
       "      <th>cons.conf.idx</th>\n",
       "      <th>euribor3m</th>\n",
       "      <th>nr.employed</th>\n",
       "    </tr>\n",
       "    <tr>\n",
       "      <th>job</th>\n",
       "      <th></th>\n",
       "      <th></th>\n",
       "      <th></th>\n",
       "      <th></th>\n",
       "      <th></th>\n",
       "      <th></th>\n",
       "      <th></th>\n",
       "      <th></th>\n",
       "      <th></th>\n",
       "    </tr>\n",
       "  </thead>\n",
       "  <tbody>\n",
       "    <tr>\n",
       "      <th>admin.</th>\n",
       "      <td>38.187296</td>\n",
       "      <td>2.623489</td>\n",
       "      <td>0.275187</td>\n",
       "      <td>0.189023</td>\n",
       "      <td>0.015563</td>\n",
       "      <td>93.534054</td>\n",
       "      <td>-40.245433</td>\n",
       "      <td>3.550274</td>\n",
       "      <td>5164.125350</td>\n",
       "    </tr>\n",
       "    <tr>\n",
       "      <th>blue-collar</th>\n",
       "      <td>39.555760</td>\n",
       "      <td>2.558461</td>\n",
       "      <td>0.086341</td>\n",
       "      <td>0.122542</td>\n",
       "      <td>0.248995</td>\n",
       "      <td>93.656656</td>\n",
       "      <td>-41.375816</td>\n",
       "      <td>3.771996</td>\n",
       "      <td>5175.615150</td>\n",
       "    </tr>\n",
       "    <tr>\n",
       "      <th>entrepreneur</th>\n",
       "      <td>41.723214</td>\n",
       "      <td>2.535714</td>\n",
       "      <td>0.106456</td>\n",
       "      <td>0.138736</td>\n",
       "      <td>0.158723</td>\n",
       "      <td>93.605372</td>\n",
       "      <td>-41.283654</td>\n",
       "      <td>3.791120</td>\n",
       "      <td>5176.313530</td>\n",
       "    </tr>\n",
       "    <tr>\n",
       "      <th>housemaid</th>\n",
       "      <td>45.500000</td>\n",
       "      <td>2.639623</td>\n",
       "      <td>0.219811</td>\n",
       "      <td>0.137736</td>\n",
       "      <td>0.433396</td>\n",
       "      <td>93.676576</td>\n",
       "      <td>-39.495283</td>\n",
       "      <td>4.009645</td>\n",
       "      <td>5179.529623</td>\n",
       "    </tr>\n",
       "    <tr>\n",
       "      <th>management</th>\n",
       "      <td>42.362859</td>\n",
       "      <td>2.476060</td>\n",
       "      <td>0.204172</td>\n",
       "      <td>0.185021</td>\n",
       "      <td>-0.012688</td>\n",
       "      <td>93.522755</td>\n",
       "      <td>-40.489466</td>\n",
       "      <td>3.611316</td>\n",
       "      <td>5166.650513</td>\n",
       "    </tr>\n",
       "    <tr>\n",
       "      <th>retired</th>\n",
       "      <td>62.027326</td>\n",
       "      <td>2.476744</td>\n",
       "      <td>0.578488</td>\n",
       "      <td>0.327326</td>\n",
       "      <td>-0.698314</td>\n",
       "      <td>93.430786</td>\n",
       "      <td>-38.573081</td>\n",
       "      <td>2.770066</td>\n",
       "      <td>5122.262151</td>\n",
       "    </tr>\n",
       "    <tr>\n",
       "      <th>self-employed</th>\n",
       "      <td>39.949331</td>\n",
       "      <td>2.660802</td>\n",
       "      <td>0.118227</td>\n",
       "      <td>0.143561</td>\n",
       "      <td>0.094159</td>\n",
       "      <td>93.559982</td>\n",
       "      <td>-40.488107</td>\n",
       "      <td>3.689376</td>\n",
       "      <td>5170.674384</td>\n",
       "    </tr>\n",
       "    <tr>\n",
       "      <th>services</th>\n",
       "      <td>37.926430</td>\n",
       "      <td>2.587805</td>\n",
       "      <td>0.103301</td>\n",
       "      <td>0.154951</td>\n",
       "      <td>0.175359</td>\n",
       "      <td>93.634659</td>\n",
       "      <td>-41.290048</td>\n",
       "      <td>3.699187</td>\n",
       "      <td>5171.600126</td>\n",
       "    </tr>\n",
       "    <tr>\n",
       "      <th>student</th>\n",
       "      <td>25.894857</td>\n",
       "      <td>2.104000</td>\n",
       "      <td>1.057143</td>\n",
       "      <td>0.524571</td>\n",
       "      <td>-1.408000</td>\n",
       "      <td>93.331613</td>\n",
       "      <td>-40.187543</td>\n",
       "      <td>1.884224</td>\n",
       "      <td>5085.939086</td>\n",
       "    </tr>\n",
       "    <tr>\n",
       "      <th>technician</th>\n",
       "      <td>38.507638</td>\n",
       "      <td>2.577339</td>\n",
       "      <td>0.224233</td>\n",
       "      <td>0.153789</td>\n",
       "      <td>0.274566</td>\n",
       "      <td>93.561471</td>\n",
       "      <td>-39.927569</td>\n",
       "      <td>3.820401</td>\n",
       "      <td>5175.648391</td>\n",
       "    </tr>\n",
       "    <tr>\n",
       "      <th>unemployed</th>\n",
       "      <td>39.733728</td>\n",
       "      <td>2.564103</td>\n",
       "      <td>0.355030</td>\n",
       "      <td>0.199211</td>\n",
       "      <td>-0.111736</td>\n",
       "      <td>93.563781</td>\n",
       "      <td>-40.007594</td>\n",
       "      <td>3.466583</td>\n",
       "      <td>5157.156509</td>\n",
       "    </tr>\n",
       "    <tr>\n",
       "      <th>unknown</th>\n",
       "      <td>45.563636</td>\n",
       "      <td>2.648485</td>\n",
       "      <td>0.272727</td>\n",
       "      <td>0.154545</td>\n",
       "      <td>0.357879</td>\n",
       "      <td>93.718942</td>\n",
       "      <td>-38.797879</td>\n",
       "      <td>3.949033</td>\n",
       "      <td>5172.931818</td>\n",
       "    </tr>\n",
       "  </tbody>\n",
       "</table>\n",
       "</div>"
      ],
      "text/plain": [
       "                     age  campaign     pdays  previous  emp.var.rate  \\\n",
       "job                                                                    \n",
       "admin.         38.187296  2.623489  0.275187  0.189023      0.015563   \n",
       "blue-collar    39.555760  2.558461  0.086341  0.122542      0.248995   \n",
       "entrepreneur   41.723214  2.535714  0.106456  0.138736      0.158723   \n",
       "housemaid      45.500000  2.639623  0.219811  0.137736      0.433396   \n",
       "management     42.362859  2.476060  0.204172  0.185021     -0.012688   \n",
       "retired        62.027326  2.476744  0.578488  0.327326     -0.698314   \n",
       "self-employed  39.949331  2.660802  0.118227  0.143561      0.094159   \n",
       "services       37.926430  2.587805  0.103301  0.154951      0.175359   \n",
       "student        25.894857  2.104000  1.057143  0.524571     -1.408000   \n",
       "technician     38.507638  2.577339  0.224233  0.153789      0.274566   \n",
       "unemployed     39.733728  2.564103  0.355030  0.199211     -0.111736   \n",
       "unknown        45.563636  2.648485  0.272727  0.154545      0.357879   \n",
       "\n",
       "               cons.price.idx  cons.conf.idx  euribor3m  nr.employed  \n",
       "job                                                                   \n",
       "admin.              93.534054     -40.245433   3.550274  5164.125350  \n",
       "blue-collar         93.656656     -41.375816   3.771996  5175.615150  \n",
       "entrepreneur        93.605372     -41.283654   3.791120  5176.313530  \n",
       "housemaid           93.676576     -39.495283   4.009645  5179.529623  \n",
       "management          93.522755     -40.489466   3.611316  5166.650513  \n",
       "retired             93.430786     -38.573081   2.770066  5122.262151  \n",
       "self-employed       93.559982     -40.488107   3.689376  5170.674384  \n",
       "services            93.634659     -41.290048   3.699187  5171.600126  \n",
       "student             93.331613     -40.187543   1.884224  5085.939086  \n",
       "technician          93.561471     -39.927569   3.820401  5175.648391  \n",
       "unemployed          93.563781     -40.007594   3.466583  5157.156509  \n",
       "unknown             93.718942     -38.797879   3.949033  5172.931818  "
      ]
     },
     "execution_count": 19,
     "metadata": {},
     "output_type": "execute_result"
    }
   ],
   "source": [
    "#analysis of each categorical column\n",
    "data_df.groupby('job').mean()"
   ]
  },
  {
   "cell_type": "code",
   "execution_count": 20,
   "metadata": {
    "scrolled": false
   },
   "outputs": [
    {
     "data": {
      "text/html": [
       "<div>\n",
       "<style scoped>\n",
       "    .dataframe tbody tr th:only-of-type {\n",
       "        vertical-align: middle;\n",
       "    }\n",
       "\n",
       "    .dataframe tbody tr th {\n",
       "        vertical-align: top;\n",
       "    }\n",
       "\n",
       "    .dataframe thead th {\n",
       "        text-align: right;\n",
       "    }\n",
       "</style>\n",
       "<table border=\"1\" class=\"dataframe\">\n",
       "  <thead>\n",
       "    <tr style=\"text-align: right;\">\n",
       "      <th></th>\n",
       "      <th>age</th>\n",
       "      <th>campaign</th>\n",
       "      <th>pdays</th>\n",
       "      <th>previous</th>\n",
       "      <th>emp.var.rate</th>\n",
       "      <th>cons.price.idx</th>\n",
       "      <th>cons.conf.idx</th>\n",
       "      <th>euribor3m</th>\n",
       "      <th>nr.employed</th>\n",
       "    </tr>\n",
       "    <tr>\n",
       "      <th>marital</th>\n",
       "      <th></th>\n",
       "      <th></th>\n",
       "      <th></th>\n",
       "      <th></th>\n",
       "      <th></th>\n",
       "      <th></th>\n",
       "      <th></th>\n",
       "      <th></th>\n",
       "      <th></th>\n",
       "    </tr>\n",
       "  </thead>\n",
       "  <tbody>\n",
       "    <tr>\n",
       "      <th>divorced</th>\n",
       "      <td>44.899393</td>\n",
       "      <td>2.61340</td>\n",
       "      <td>0.181700</td>\n",
       "      <td>0.168690</td>\n",
       "      <td>0.163985</td>\n",
       "      <td>93.606563</td>\n",
       "      <td>-40.707069</td>\n",
       "      <td>3.715603</td>\n",
       "      <td>5170.878643</td>\n",
       "    </tr>\n",
       "    <tr>\n",
       "      <th>married</th>\n",
       "      <td>42.307165</td>\n",
       "      <td>2.57281</td>\n",
       "      <td>0.187781</td>\n",
       "      <td>0.155608</td>\n",
       "      <td>0.183625</td>\n",
       "      <td>93.597367</td>\n",
       "      <td>-40.270659</td>\n",
       "      <td>3.745832</td>\n",
       "      <td>5171.848772</td>\n",
       "    </tr>\n",
       "    <tr>\n",
       "      <th>single</th>\n",
       "      <td>33.158714</td>\n",
       "      <td>2.53380</td>\n",
       "      <td>0.306881</td>\n",
       "      <td>0.211359</td>\n",
       "      <td>-0.167989</td>\n",
       "      <td>93.517300</td>\n",
       "      <td>-40.918698</td>\n",
       "      <td>3.317447</td>\n",
       "      <td>5155.199265</td>\n",
       "    </tr>\n",
       "    <tr>\n",
       "      <th>unknown</th>\n",
       "      <td>40.275000</td>\n",
       "      <td>3.18750</td>\n",
       "      <td>0.537500</td>\n",
       "      <td>0.275000</td>\n",
       "      <td>-0.221250</td>\n",
       "      <td>93.471250</td>\n",
       "      <td>-40.820000</td>\n",
       "      <td>3.313037</td>\n",
       "      <td>5157.393750</td>\n",
       "    </tr>\n",
       "  </tbody>\n",
       "</table>\n",
       "</div>"
      ],
      "text/plain": [
       "                age  campaign     pdays  previous  emp.var.rate  \\\n",
       "marital                                                           \n",
       "divorced  44.899393   2.61340  0.181700  0.168690      0.163985   \n",
       "married   42.307165   2.57281  0.187781  0.155608      0.183625   \n",
       "single    33.158714   2.53380  0.306881  0.211359     -0.167989   \n",
       "unknown   40.275000   3.18750  0.537500  0.275000     -0.221250   \n",
       "\n",
       "          cons.price.idx  cons.conf.idx  euribor3m  nr.employed  \n",
       "marital                                                          \n",
       "divorced       93.606563     -40.707069   3.715603  5170.878643  \n",
       "married        93.597367     -40.270659   3.745832  5171.848772  \n",
       "single         93.517300     -40.918698   3.317447  5155.199265  \n",
       "unknown        93.471250     -40.820000   3.313037  5157.393750  "
      ]
     },
     "execution_count": 20,
     "metadata": {},
     "output_type": "execute_result"
    }
   ],
   "source": [
    "data_df.groupby('marital').mean()"
   ]
  },
  {
   "cell_type": "code",
   "execution_count": 21,
   "metadata": {
    "scrolled": false
   },
   "outputs": [
    {
     "data": {
      "text/html": [
       "<div>\n",
       "<style scoped>\n",
       "    .dataframe tbody tr th:only-of-type {\n",
       "        vertical-align: middle;\n",
       "    }\n",
       "\n",
       "    .dataframe tbody tr th {\n",
       "        vertical-align: top;\n",
       "    }\n",
       "\n",
       "    .dataframe thead th {\n",
       "        text-align: right;\n",
       "    }\n",
       "</style>\n",
       "<table border=\"1\" class=\"dataframe\">\n",
       "  <thead>\n",
       "    <tr style=\"text-align: right;\">\n",
       "      <th></th>\n",
       "      <th>age</th>\n",
       "      <th>campaign</th>\n",
       "      <th>pdays</th>\n",
       "      <th>previous</th>\n",
       "      <th>emp.var.rate</th>\n",
       "      <th>cons.price.idx</th>\n",
       "      <th>cons.conf.idx</th>\n",
       "      <th>euribor3m</th>\n",
       "      <th>nr.employed</th>\n",
       "    </tr>\n",
       "    <tr>\n",
       "      <th>education</th>\n",
       "      <th></th>\n",
       "      <th></th>\n",
       "      <th></th>\n",
       "      <th></th>\n",
       "      <th></th>\n",
       "      <th></th>\n",
       "      <th></th>\n",
       "      <th></th>\n",
       "      <th></th>\n",
       "    </tr>\n",
       "  </thead>\n",
       "  <tbody>\n",
       "    <tr>\n",
       "      <th>basic.4y</th>\n",
       "      <td>47.596504</td>\n",
       "      <td>2.600575</td>\n",
       "      <td>0.196360</td>\n",
       "      <td>0.147031</td>\n",
       "      <td>0.215924</td>\n",
       "      <td>93.658309</td>\n",
       "      <td>-40.239871</td>\n",
       "      <td>3.751768</td>\n",
       "      <td>5170.124880</td>\n",
       "    </tr>\n",
       "    <tr>\n",
       "      <th>basic.6y</th>\n",
       "      <td>40.448953</td>\n",
       "      <td>2.556283</td>\n",
       "      <td>0.110384</td>\n",
       "      <td>0.129145</td>\n",
       "      <td>0.231152</td>\n",
       "      <td>93.650062</td>\n",
       "      <td>-41.127880</td>\n",
       "      <td>3.772942</td>\n",
       "      <td>5174.718063</td>\n",
       "    </tr>\n",
       "    <tr>\n",
       "      <th>basic.9y</th>\n",
       "      <td>39.061208</td>\n",
       "      <td>2.532341</td>\n",
       "      <td>0.129694</td>\n",
       "      <td>0.141439</td>\n",
       "      <td>0.159239</td>\n",
       "      <td>93.623399</td>\n",
       "      <td>-41.326749</td>\n",
       "      <td>3.697963</td>\n",
       "      <td>5172.294012</td>\n",
       "    </tr>\n",
       "    <tr>\n",
       "      <th>high.school</th>\n",
       "      <td>37.998213</td>\n",
       "      <td>2.568576</td>\n",
       "      <td>0.215765</td>\n",
       "      <td>0.185917</td>\n",
       "      <td>0.032937</td>\n",
       "      <td>93.584857</td>\n",
       "      <td>-40.940641</td>\n",
       "      <td>3.556157</td>\n",
       "      <td>5164.994735</td>\n",
       "    </tr>\n",
       "    <tr>\n",
       "      <th>illiterate</th>\n",
       "      <td>48.500000</td>\n",
       "      <td>2.277778</td>\n",
       "      <td>0.333333</td>\n",
       "      <td>0.111111</td>\n",
       "      <td>-0.133333</td>\n",
       "      <td>93.317333</td>\n",
       "      <td>-39.950000</td>\n",
       "      <td>3.516556</td>\n",
       "      <td>5171.777778</td>\n",
       "    </tr>\n",
       "    <tr>\n",
       "      <th>professional.course</th>\n",
       "      <td>40.080107</td>\n",
       "      <td>2.586115</td>\n",
       "      <td>0.255007</td>\n",
       "      <td>0.163075</td>\n",
       "      <td>0.173012</td>\n",
       "      <td>93.569864</td>\n",
       "      <td>-40.124108</td>\n",
       "      <td>3.710457</td>\n",
       "      <td>5170.155979</td>\n",
       "    </tr>\n",
       "    <tr>\n",
       "      <th>university.degree</th>\n",
       "      <td>38.879191</td>\n",
       "      <td>2.563527</td>\n",
       "      <td>0.261834</td>\n",
       "      <td>0.192390</td>\n",
       "      <td>-0.028090</td>\n",
       "      <td>93.493466</td>\n",
       "      <td>-39.975805</td>\n",
       "      <td>3.529663</td>\n",
       "      <td>5163.226298</td>\n",
       "    </tr>\n",
       "    <tr>\n",
       "      <th>unknown</th>\n",
       "      <td>43.481225</td>\n",
       "      <td>2.596187</td>\n",
       "      <td>0.388793</td>\n",
       "      <td>0.226459</td>\n",
       "      <td>0.059099</td>\n",
       "      <td>93.658615</td>\n",
       "      <td>-39.877816</td>\n",
       "      <td>3.571098</td>\n",
       "      <td>5159.549509</td>\n",
       "    </tr>\n",
       "  </tbody>\n",
       "</table>\n",
       "</div>"
      ],
      "text/plain": [
       "                           age  campaign     pdays  previous  emp.var.rate  \\\n",
       "education                                                                    \n",
       "basic.4y             47.596504  2.600575  0.196360  0.147031      0.215924   \n",
       "basic.6y             40.448953  2.556283  0.110384  0.129145      0.231152   \n",
       "basic.9y             39.061208  2.532341  0.129694  0.141439      0.159239   \n",
       "high.school          37.998213  2.568576  0.215765  0.185917      0.032937   \n",
       "illiterate           48.500000  2.277778  0.333333  0.111111     -0.133333   \n",
       "professional.course  40.080107  2.586115  0.255007  0.163075      0.173012   \n",
       "university.degree    38.879191  2.563527  0.261834  0.192390     -0.028090   \n",
       "unknown              43.481225  2.596187  0.388793  0.226459      0.059099   \n",
       "\n",
       "                     cons.price.idx  cons.conf.idx  euribor3m  nr.employed  \n",
       "education                                                                   \n",
       "basic.4y                  93.658309     -40.239871   3.751768  5170.124880  \n",
       "basic.6y                  93.650062     -41.127880   3.772942  5174.718063  \n",
       "basic.9y                  93.623399     -41.326749   3.697963  5172.294012  \n",
       "high.school               93.584857     -40.940641   3.556157  5164.994735  \n",
       "illiterate                93.317333     -39.950000   3.516556  5171.777778  \n",
       "professional.course       93.569864     -40.124108   3.710457  5170.155979  \n",
       "university.degree         93.493466     -39.975805   3.529663  5163.226298  \n",
       "unknown                   93.658615     -39.877816   3.571098  5159.549509  "
      ]
     },
     "execution_count": 21,
     "metadata": {},
     "output_type": "execute_result"
    }
   ],
   "source": [
    "data_df.groupby('education').mean()"
   ]
  },
  {
   "cell_type": "code",
   "execution_count": 22,
   "metadata": {
    "scrolled": false
   },
   "outputs": [
    {
     "data": {
      "text/html": [
       "<div>\n",
       "<style scoped>\n",
       "    .dataframe tbody tr th:only-of-type {\n",
       "        vertical-align: middle;\n",
       "    }\n",
       "\n",
       "    .dataframe tbody tr th {\n",
       "        vertical-align: top;\n",
       "    }\n",
       "\n",
       "    .dataframe thead th {\n",
       "        text-align: right;\n",
       "    }\n",
       "</style>\n",
       "<table border=\"1\" class=\"dataframe\">\n",
       "  <thead>\n",
       "    <tr style=\"text-align: right;\">\n",
       "      <th></th>\n",
       "      <th>age</th>\n",
       "      <th>campaign</th>\n",
       "      <th>pdays</th>\n",
       "      <th>previous</th>\n",
       "      <th>emp.var.rate</th>\n",
       "      <th>cons.price.idx</th>\n",
       "      <th>cons.conf.idx</th>\n",
       "      <th>euribor3m</th>\n",
       "      <th>nr.employed</th>\n",
       "    </tr>\n",
       "    <tr>\n",
       "      <th>default</th>\n",
       "      <th></th>\n",
       "      <th></th>\n",
       "      <th></th>\n",
       "      <th></th>\n",
       "      <th></th>\n",
       "      <th></th>\n",
       "      <th></th>\n",
       "      <th></th>\n",
       "      <th></th>\n",
       "    </tr>\n",
       "  </thead>\n",
       "  <tbody>\n",
       "    <tr>\n",
       "      <th>no</th>\n",
       "      <td>39.140635</td>\n",
       "      <td>2.520744</td>\n",
       "      <td>0.268197</td>\n",
       "      <td>0.199030</td>\n",
       "      <td>-0.082168</td>\n",
       "      <td>93.525639</td>\n",
       "      <td>-40.565469</td>\n",
       "      <td>3.447246</td>\n",
       "      <td>5159.990214</td>\n",
       "    </tr>\n",
       "    <tr>\n",
       "      <th>unknown</th>\n",
       "      <td>43.371990</td>\n",
       "      <td>2.745609</td>\n",
       "      <td>0.043271</td>\n",
       "      <td>0.074096</td>\n",
       "      <td>0.703466</td>\n",
       "      <td>93.765365</td>\n",
       "      <td>-40.265139</td>\n",
       "      <td>4.280654</td>\n",
       "      <td>5193.725951</td>\n",
       "    </tr>\n",
       "    <tr>\n",
       "      <th>yes</th>\n",
       "      <td>42.333333</td>\n",
       "      <td>1.333333</td>\n",
       "      <td>0.000000</td>\n",
       "      <td>0.333333</td>\n",
       "      <td>0.900000</td>\n",
       "      <td>93.362667</td>\n",
       "      <td>-38.066667</td>\n",
       "      <td>4.693000</td>\n",
       "      <td>5217.333333</td>\n",
       "    </tr>\n",
       "  </tbody>\n",
       "</table>\n",
       "</div>"
      ],
      "text/plain": [
       "               age  campaign     pdays  previous  emp.var.rate  \\\n",
       "default                                                          \n",
       "no       39.140635  2.520744  0.268197  0.199030     -0.082168   \n",
       "unknown  43.371990  2.745609  0.043271  0.074096      0.703466   \n",
       "yes      42.333333  1.333333  0.000000  0.333333      0.900000   \n",
       "\n",
       "         cons.price.idx  cons.conf.idx  euribor3m  nr.employed  \n",
       "default                                                         \n",
       "no            93.525639     -40.565469   3.447246  5159.990214  \n",
       "unknown       93.765365     -40.265139   4.280654  5193.725951  \n",
       "yes           93.362667     -38.066667   4.693000  5217.333333  "
      ]
     },
     "execution_count": 22,
     "metadata": {},
     "output_type": "execute_result"
    }
   ],
   "source": [
    "data_df.groupby('default').mean()"
   ]
  },
  {
   "cell_type": "code",
   "execution_count": 23,
   "metadata": {
    "scrolled": false
   },
   "outputs": [
    {
     "data": {
      "text/html": [
       "<div>\n",
       "<style scoped>\n",
       "    .dataframe tbody tr th:only-of-type {\n",
       "        vertical-align: middle;\n",
       "    }\n",
       "\n",
       "    .dataframe tbody tr th {\n",
       "        vertical-align: top;\n",
       "    }\n",
       "\n",
       "    .dataframe thead th {\n",
       "        text-align: right;\n",
       "    }\n",
       "</style>\n",
       "<table border=\"1\" class=\"dataframe\">\n",
       "  <thead>\n",
       "    <tr style=\"text-align: right;\">\n",
       "      <th></th>\n",
       "      <th>age</th>\n",
       "      <th>campaign</th>\n",
       "      <th>pdays</th>\n",
       "      <th>previous</th>\n",
       "      <th>emp.var.rate</th>\n",
       "      <th>cons.price.idx</th>\n",
       "      <th>cons.conf.idx</th>\n",
       "      <th>euribor3m</th>\n",
       "      <th>nr.employed</th>\n",
       "    </tr>\n",
       "    <tr>\n",
       "      <th>housing</th>\n",
       "      <th></th>\n",
       "      <th></th>\n",
       "      <th></th>\n",
       "      <th></th>\n",
       "      <th></th>\n",
       "      <th></th>\n",
       "      <th></th>\n",
       "      <th></th>\n",
       "      <th></th>\n",
       "    </tr>\n",
       "  </thead>\n",
       "  <tbody>\n",
       "    <tr>\n",
       "      <th>no</th>\n",
       "      <td>40.044195</td>\n",
       "      <td>2.601010</td>\n",
       "      <td>0.215337</td>\n",
       "      <td>0.161153</td>\n",
       "      <td>0.184089</td>\n",
       "      <td>93.624836</td>\n",
       "      <td>-40.337590</td>\n",
       "      <td>3.732474</td>\n",
       "      <td>5170.661857</td>\n",
       "    </tr>\n",
       "    <tr>\n",
       "      <th>unknown</th>\n",
       "      <td>39.951515</td>\n",
       "      <td>2.560606</td>\n",
       "      <td>0.206061</td>\n",
       "      <td>0.184848</td>\n",
       "      <td>0.113434</td>\n",
       "      <td>93.636011</td>\n",
       "      <td>-40.289192</td>\n",
       "      <td>3.653046</td>\n",
       "      <td>5166.457273</td>\n",
       "    </tr>\n",
       "    <tr>\n",
       "      <th>yes</th>\n",
       "      <td>40.010011</td>\n",
       "      <td>2.539071</td>\n",
       "      <td>0.227011</td>\n",
       "      <td>0.182610</td>\n",
       "      <td>-0.007773</td>\n",
       "      <td>93.530456</td>\n",
       "      <td>-40.654811</td>\n",
       "      <td>3.523873</td>\n",
       "      <td>5163.932949</td>\n",
       "    </tr>\n",
       "  </tbody>\n",
       "</table>\n",
       "</div>"
      ],
      "text/plain": [
       "               age  campaign     pdays  previous  emp.var.rate  \\\n",
       "housing                                                          \n",
       "no       40.044195  2.601010  0.215337  0.161153      0.184089   \n",
       "unknown  39.951515  2.560606  0.206061  0.184848      0.113434   \n",
       "yes      40.010011  2.539071  0.227011  0.182610     -0.007773   \n",
       "\n",
       "         cons.price.idx  cons.conf.idx  euribor3m  nr.employed  \n",
       "housing                                                         \n",
       "no            93.624836     -40.337590   3.732474  5170.661857  \n",
       "unknown       93.636011     -40.289192   3.653046  5166.457273  \n",
       "yes           93.530456     -40.654811   3.523873  5163.932949  "
      ]
     },
     "execution_count": 23,
     "metadata": {},
     "output_type": "execute_result"
    }
   ],
   "source": [
    "data_df.groupby('housing').mean()"
   ]
  },
  {
   "cell_type": "code",
   "execution_count": 24,
   "metadata": {
    "scrolled": false
   },
   "outputs": [
    {
     "data": {
      "text/html": [
       "<div>\n",
       "<style scoped>\n",
       "    .dataframe tbody tr th:only-of-type {\n",
       "        vertical-align: middle;\n",
       "    }\n",
       "\n",
       "    .dataframe tbody tr th {\n",
       "        vertical-align: top;\n",
       "    }\n",
       "\n",
       "    .dataframe thead th {\n",
       "        text-align: right;\n",
       "    }\n",
       "</style>\n",
       "<table border=\"1\" class=\"dataframe\">\n",
       "  <thead>\n",
       "    <tr style=\"text-align: right;\">\n",
       "      <th></th>\n",
       "      <th>age</th>\n",
       "      <th>campaign</th>\n",
       "      <th>pdays</th>\n",
       "      <th>previous</th>\n",
       "      <th>emp.var.rate</th>\n",
       "      <th>cons.price.idx</th>\n",
       "      <th>cons.conf.idx</th>\n",
       "      <th>euribor3m</th>\n",
       "      <th>nr.employed</th>\n",
       "    </tr>\n",
       "    <tr>\n",
       "      <th>loan</th>\n",
       "      <th></th>\n",
       "      <th></th>\n",
       "      <th></th>\n",
       "      <th></th>\n",
       "      <th></th>\n",
       "      <th></th>\n",
       "      <th></th>\n",
       "      <th></th>\n",
       "      <th></th>\n",
       "    </tr>\n",
       "  </thead>\n",
       "  <tbody>\n",
       "    <tr>\n",
       "      <th>no</th>\n",
       "      <td>40.058822</td>\n",
       "      <td>2.561414</td>\n",
       "      <td>0.223299</td>\n",
       "      <td>0.173078</td>\n",
       "      <td>0.080150</td>\n",
       "      <td>93.575402</td>\n",
       "      <td>-40.481284</td>\n",
       "      <td>3.620732</td>\n",
       "      <td>5166.920563</td>\n",
       "    </tr>\n",
       "    <tr>\n",
       "      <th>unknown</th>\n",
       "      <td>39.951515</td>\n",
       "      <td>2.560606</td>\n",
       "      <td>0.206061</td>\n",
       "      <td>0.184848</td>\n",
       "      <td>0.113434</td>\n",
       "      <td>93.636011</td>\n",
       "      <td>-40.289192</td>\n",
       "      <td>3.653046</td>\n",
       "      <td>5166.457273</td>\n",
       "    </tr>\n",
       "    <tr>\n",
       "      <th>yes</th>\n",
       "      <td>39.846671</td>\n",
       "      <td>2.602273</td>\n",
       "      <td>0.212388</td>\n",
       "      <td>0.170455</td>\n",
       "      <td>0.086316</td>\n",
       "      <td>93.567529</td>\n",
       "      <td>-40.652241</td>\n",
       "      <td>3.619294</td>\n",
       "      <td>5167.754369</td>\n",
       "    </tr>\n",
       "  </tbody>\n",
       "</table>\n",
       "</div>"
      ],
      "text/plain": [
       "               age  campaign     pdays  previous  emp.var.rate  \\\n",
       "loan                                                             \n",
       "no       40.058822  2.561414  0.223299  0.173078      0.080150   \n",
       "unknown  39.951515  2.560606  0.206061  0.184848      0.113434   \n",
       "yes      39.846671  2.602273  0.212388  0.170455      0.086316   \n",
       "\n",
       "         cons.price.idx  cons.conf.idx  euribor3m  nr.employed  \n",
       "loan                                                            \n",
       "no            93.575402     -40.481284   3.620732  5166.920563  \n",
       "unknown       93.636011     -40.289192   3.653046  5166.457273  \n",
       "yes           93.567529     -40.652241   3.619294  5167.754369  "
      ]
     },
     "execution_count": 24,
     "metadata": {},
     "output_type": "execute_result"
    }
   ],
   "source": [
    "data_df.groupby('loan').mean()"
   ]
  },
  {
   "cell_type": "code",
   "execution_count": 25,
   "metadata": {
    "scrolled": false
   },
   "outputs": [
    {
     "data": {
      "text/html": [
       "<div>\n",
       "<style scoped>\n",
       "    .dataframe tbody tr th:only-of-type {\n",
       "        vertical-align: middle;\n",
       "    }\n",
       "\n",
       "    .dataframe tbody tr th {\n",
       "        vertical-align: top;\n",
       "    }\n",
       "\n",
       "    .dataframe thead th {\n",
       "        text-align: right;\n",
       "    }\n",
       "</style>\n",
       "<table border=\"1\" class=\"dataframe\">\n",
       "  <thead>\n",
       "    <tr style=\"text-align: right;\">\n",
       "      <th></th>\n",
       "      <th>age</th>\n",
       "      <th>campaign</th>\n",
       "      <th>pdays</th>\n",
       "      <th>previous</th>\n",
       "      <th>emp.var.rate</th>\n",
       "      <th>cons.price.idx</th>\n",
       "      <th>cons.conf.idx</th>\n",
       "      <th>euribor3m</th>\n",
       "      <th>nr.employed</th>\n",
       "    </tr>\n",
       "    <tr>\n",
       "      <th>contact</th>\n",
       "      <th></th>\n",
       "      <th></th>\n",
       "      <th></th>\n",
       "      <th></th>\n",
       "      <th></th>\n",
       "      <th></th>\n",
       "      <th></th>\n",
       "      <th></th>\n",
       "      <th></th>\n",
       "    </tr>\n",
       "  </thead>\n",
       "  <tbody>\n",
       "    <tr>\n",
       "      <th>cellular</th>\n",
       "      <td>39.968559</td>\n",
       "      <td>2.405026</td>\n",
       "      <td>0.321680</td>\n",
       "      <td>0.252869</td>\n",
       "      <td>-0.387137</td>\n",
       "      <td>93.315957</td>\n",
       "      <td>-41.385959</td>\n",
       "      <td>3.095316</td>\n",
       "      <td>5152.284260</td>\n",
       "    </tr>\n",
       "    <tr>\n",
       "      <th>telephone</th>\n",
       "      <td>40.120513</td>\n",
       "      <td>2.850106</td>\n",
       "      <td>0.046663</td>\n",
       "      <td>0.034100</td>\n",
       "      <td>0.896969</td>\n",
       "      <td>94.026993</td>\n",
       "      <td>-38.967469</td>\n",
       "      <td>4.535349</td>\n",
       "      <td>5192.671856</td>\n",
       "    </tr>\n",
       "  </tbody>\n",
       "</table>\n",
       "</div>"
      ],
      "text/plain": [
       "                 age  campaign     pdays  previous  emp.var.rate  \\\n",
       "contact                                                            \n",
       "cellular   39.968559  2.405026  0.321680  0.252869     -0.387137   \n",
       "telephone  40.120513  2.850106  0.046663  0.034100      0.896969   \n",
       "\n",
       "           cons.price.idx  cons.conf.idx  euribor3m  nr.employed  \n",
       "contact                                                           \n",
       "cellular        93.315957     -41.385959   3.095316  5152.284260  \n",
       "telephone       94.026993     -38.967469   4.535349  5192.671856  "
      ]
     },
     "execution_count": 25,
     "metadata": {},
     "output_type": "execute_result"
    }
   ],
   "source": [
    "data_df.groupby('contact').mean()"
   ]
  },
  {
   "cell_type": "code",
   "execution_count": 26,
   "metadata": {
    "scrolled": false
   },
   "outputs": [
    {
     "data": {
      "text/html": [
       "<div>\n",
       "<style scoped>\n",
       "    .dataframe tbody tr th:only-of-type {\n",
       "        vertical-align: middle;\n",
       "    }\n",
       "\n",
       "    .dataframe tbody tr th {\n",
       "        vertical-align: top;\n",
       "    }\n",
       "\n",
       "    .dataframe thead th {\n",
       "        text-align: right;\n",
       "    }\n",
       "</style>\n",
       "<table border=\"1\" class=\"dataframe\">\n",
       "  <thead>\n",
       "    <tr style=\"text-align: right;\">\n",
       "      <th></th>\n",
       "      <th>age</th>\n",
       "      <th>campaign</th>\n",
       "      <th>pdays</th>\n",
       "      <th>previous</th>\n",
       "      <th>emp.var.rate</th>\n",
       "      <th>cons.price.idx</th>\n",
       "      <th>cons.conf.idx</th>\n",
       "      <th>euribor3m</th>\n",
       "      <th>nr.employed</th>\n",
       "    </tr>\n",
       "    <tr>\n",
       "      <th>month</th>\n",
       "      <th></th>\n",
       "      <th></th>\n",
       "      <th></th>\n",
       "      <th></th>\n",
       "      <th></th>\n",
       "      <th></th>\n",
       "      <th></th>\n",
       "      <th></th>\n",
       "      <th></th>\n",
       "    </tr>\n",
       "  </thead>\n",
       "  <tbody>\n",
       "    <tr>\n",
       "      <th>apr</th>\n",
       "      <td>40.593845</td>\n",
       "      <td>1.947188</td>\n",
       "      <td>0.236702</td>\n",
       "      <td>0.323328</td>\n",
       "      <td>-1.800000</td>\n",
       "      <td>93.119558</td>\n",
       "      <td>-46.273632</td>\n",
       "      <td>1.361070</td>\n",
       "      <td>5093.123708</td>\n",
       "    </tr>\n",
       "    <tr>\n",
       "      <th>aug</th>\n",
       "      <td>41.644221</td>\n",
       "      <td>2.666559</td>\n",
       "      <td>0.224021</td>\n",
       "      <td>0.115410</td>\n",
       "      <td>0.747151</td>\n",
       "      <td>93.311065</td>\n",
       "      <td>-35.597184</td>\n",
       "      <td>4.300623</td>\n",
       "      <td>5200.248349</td>\n",
       "    </tr>\n",
       "    <tr>\n",
       "      <th>dec</th>\n",
       "      <td>47.307692</td>\n",
       "      <td>2.159341</td>\n",
       "      <td>1.554945</td>\n",
       "      <td>0.615385</td>\n",
       "      <td>-2.846154</td>\n",
       "      <td>92.715363</td>\n",
       "      <td>-33.708791</td>\n",
       "      <td>0.865319</td>\n",
       "      <td>5031.895604</td>\n",
       "    </tr>\n",
       "    <tr>\n",
       "      <th>jul</th>\n",
       "      <td>39.035545</td>\n",
       "      <td>3.160998</td>\n",
       "      <td>0.132562</td>\n",
       "      <td>0.047115</td>\n",
       "      <td>1.158921</td>\n",
       "      <td>93.894923</td>\n",
       "      <td>-42.370170</td>\n",
       "      <td>4.685678</td>\n",
       "      <td>5214.078575</td>\n",
       "    </tr>\n",
       "    <tr>\n",
       "      <th>jun</th>\n",
       "      <td>39.766077</td>\n",
       "      <td>3.072208</td>\n",
       "      <td>0.150809</td>\n",
       "      <td>0.083114</td>\n",
       "      <td>0.688379</td>\n",
       "      <td>94.245402</td>\n",
       "      <td>-41.579428</td>\n",
       "      <td>4.256908</td>\n",
       "      <td>5197.493193</td>\n",
       "    </tr>\n",
       "    <tr>\n",
       "      <th>mar</th>\n",
       "      <td>40.778388</td>\n",
       "      <td>2.203297</td>\n",
       "      <td>1.124542</td>\n",
       "      <td>0.483516</td>\n",
       "      <td>-1.800000</td>\n",
       "      <td>93.097330</td>\n",
       "      <td>-42.650549</td>\n",
       "      <td>1.162745</td>\n",
       "      <td>5055.390110</td>\n",
       "    </tr>\n",
       "    <tr>\n",
       "      <th>may</th>\n",
       "      <td>39.031084</td>\n",
       "      <td>2.439756</td>\n",
       "      <td>0.113879</td>\n",
       "      <td>0.164209</td>\n",
       "      <td>-0.164972</td>\n",
       "      <td>93.528882</td>\n",
       "      <td>-40.579272</td>\n",
       "      <td>3.293665</td>\n",
       "      <td>5149.521592</td>\n",
       "    </tr>\n",
       "    <tr>\n",
       "      <th>nov</th>\n",
       "      <td>40.965618</td>\n",
       "      <td>1.909290</td>\n",
       "      <td>0.234089</td>\n",
       "      <td>0.293587</td>\n",
       "      <td>-0.418483</td>\n",
       "      <td>93.200943</td>\n",
       "      <td>-41.238747</td>\n",
       "      <td>3.723123</td>\n",
       "      <td>5173.031236</td>\n",
       "    </tr>\n",
       "    <tr>\n",
       "      <th>oct</th>\n",
       "      <td>44.171309</td>\n",
       "      <td>1.545961</td>\n",
       "      <td>1.353760</td>\n",
       "      <td>0.647632</td>\n",
       "      <td>-2.438579</td>\n",
       "      <td>93.175107</td>\n",
       "      <td>-34.580919</td>\n",
       "      <td>1.200123</td>\n",
       "      <td>5018.823816</td>\n",
       "    </tr>\n",
       "    <tr>\n",
       "      <th>sep</th>\n",
       "      <td>43.621053</td>\n",
       "      <td>1.773684</td>\n",
       "      <td>1.675439</td>\n",
       "      <td>0.831579</td>\n",
       "      <td>-2.177368</td>\n",
       "      <td>93.346474</td>\n",
       "      <td>-33.893158</td>\n",
       "      <td>0.834760</td>\n",
       "      <td>4988.847895</td>\n",
       "    </tr>\n",
       "  </tbody>\n",
       "</table>\n",
       "</div>"
      ],
      "text/plain": [
       "             age  campaign     pdays  previous  emp.var.rate  cons.price.idx  \\\n",
       "month                                                                          \n",
       "apr    40.593845  1.947188  0.236702  0.323328     -1.800000       93.119558   \n",
       "aug    41.644221  2.666559  0.224021  0.115410      0.747151       93.311065   \n",
       "dec    47.307692  2.159341  1.554945  0.615385     -2.846154       92.715363   \n",
       "jul    39.035545  3.160998  0.132562  0.047115      1.158921       93.894923   \n",
       "jun    39.766077  3.072208  0.150809  0.083114      0.688379       94.245402   \n",
       "mar    40.778388  2.203297  1.124542  0.483516     -1.800000       93.097330   \n",
       "may    39.031084  2.439756  0.113879  0.164209     -0.164972       93.528882   \n",
       "nov    40.965618  1.909290  0.234089  0.293587     -0.418483       93.200943   \n",
       "oct    44.171309  1.545961  1.353760  0.647632     -2.438579       93.175107   \n",
       "sep    43.621053  1.773684  1.675439  0.831579     -2.177368       93.346474   \n",
       "\n",
       "       cons.conf.idx  euribor3m  nr.employed  \n",
       "month                                         \n",
       "apr       -46.273632   1.361070  5093.123708  \n",
       "aug       -35.597184   4.300623  5200.248349  \n",
       "dec       -33.708791   0.865319  5031.895604  \n",
       "jul       -42.370170   4.685678  5214.078575  \n",
       "jun       -41.579428   4.256908  5197.493193  \n",
       "mar       -42.650549   1.162745  5055.390110  \n",
       "may       -40.579272   3.293665  5149.521592  \n",
       "nov       -41.238747   3.723123  5173.031236  \n",
       "oct       -34.580919   1.200123  5018.823816  \n",
       "sep       -33.893158   0.834760  4988.847895  "
      ]
     },
     "execution_count": 26,
     "metadata": {},
     "output_type": "execute_result"
    }
   ],
   "source": [
    "data_df.groupby('month').mean()"
   ]
  },
  {
   "cell_type": "code",
   "execution_count": 27,
   "metadata": {
    "scrolled": false
   },
   "outputs": [
    {
     "data": {
      "text/html": [
       "<div>\n",
       "<style scoped>\n",
       "    .dataframe tbody tr th:only-of-type {\n",
       "        vertical-align: middle;\n",
       "    }\n",
       "\n",
       "    .dataframe tbody tr th {\n",
       "        vertical-align: top;\n",
       "    }\n",
       "\n",
       "    .dataframe thead th {\n",
       "        text-align: right;\n",
       "    }\n",
       "</style>\n",
       "<table border=\"1\" class=\"dataframe\">\n",
       "  <thead>\n",
       "    <tr style=\"text-align: right;\">\n",
       "      <th></th>\n",
       "      <th>age</th>\n",
       "      <th>campaign</th>\n",
       "      <th>pdays</th>\n",
       "      <th>previous</th>\n",
       "      <th>emp.var.rate</th>\n",
       "      <th>cons.price.idx</th>\n",
       "      <th>cons.conf.idx</th>\n",
       "      <th>euribor3m</th>\n",
       "      <th>nr.employed</th>\n",
       "    </tr>\n",
       "    <tr>\n",
       "      <th>day_of_week</th>\n",
       "      <th></th>\n",
       "      <th></th>\n",
       "      <th></th>\n",
       "      <th></th>\n",
       "      <th></th>\n",
       "      <th></th>\n",
       "      <th></th>\n",
       "      <th></th>\n",
       "      <th></th>\n",
       "    </tr>\n",
       "  </thead>\n",
       "  <tbody>\n",
       "    <tr>\n",
       "      <th>fri</th>\n",
       "      <td>40.177846</td>\n",
       "      <td>2.719944</td>\n",
       "      <td>0.192028</td>\n",
       "      <td>0.177463</td>\n",
       "      <td>0.032337</td>\n",
       "      <td>93.578735</td>\n",
       "      <td>-40.532260</td>\n",
       "      <td>3.566249</td>\n",
       "      <td>5165.109799</td>\n",
       "    </tr>\n",
       "    <tr>\n",
       "      <th>mon</th>\n",
       "      <td>40.412497</td>\n",
       "      <td>2.645760</td>\n",
       "      <td>0.227155</td>\n",
       "      <td>0.171012</td>\n",
       "      <td>0.026063</td>\n",
       "      <td>93.577108</td>\n",
       "      <td>-40.877790</td>\n",
       "      <td>3.542196</td>\n",
       "      <td>5164.568393</td>\n",
       "    </tr>\n",
       "    <tr>\n",
       "      <th>thu</th>\n",
       "      <td>39.591557</td>\n",
       "      <td>2.595268</td>\n",
       "      <td>0.239476</td>\n",
       "      <td>0.174417</td>\n",
       "      <td>0.058460</td>\n",
       "      <td>93.556380</td>\n",
       "      <td>-40.753323</td>\n",
       "      <td>3.574923</td>\n",
       "      <td>5166.662693</td>\n",
       "    </tr>\n",
       "    <tr>\n",
       "      <th>tue</th>\n",
       "      <td>40.427441</td>\n",
       "      <td>2.426823</td>\n",
       "      <td>0.231026</td>\n",
       "      <td>0.173053</td>\n",
       "      <td>0.128220</td>\n",
       "      <td>93.577088</td>\n",
       "      <td>-40.034227</td>\n",
       "      <td>3.701038</td>\n",
       "      <td>5168.486094</td>\n",
       "    </tr>\n",
       "    <tr>\n",
       "      <th>wed</th>\n",
       "      <td>39.526801</td>\n",
       "      <td>2.449840</td>\n",
       "      <td>0.214040</td>\n",
       "      <td>0.169044</td>\n",
       "      <td>0.166745</td>\n",
       "      <td>93.590225</td>\n",
       "      <td>-40.281387</td>\n",
       "      <td>3.726885</td>\n",
       "      <td>5170.425436</td>\n",
       "    </tr>\n",
       "  </tbody>\n",
       "</table>\n",
       "</div>"
      ],
      "text/plain": [
       "                   age  campaign     pdays  previous  emp.var.rate  \\\n",
       "day_of_week                                                          \n",
       "fri          40.177846  2.719944  0.192028  0.177463      0.032337   \n",
       "mon          40.412497  2.645760  0.227155  0.171012      0.026063   \n",
       "thu          39.591557  2.595268  0.239476  0.174417      0.058460   \n",
       "tue          40.427441  2.426823  0.231026  0.173053      0.128220   \n",
       "wed          39.526801  2.449840  0.214040  0.169044      0.166745   \n",
       "\n",
       "             cons.price.idx  cons.conf.idx  euribor3m  nr.employed  \n",
       "day_of_week                                                         \n",
       "fri               93.578735     -40.532260   3.566249  5165.109799  \n",
       "mon               93.577108     -40.877790   3.542196  5164.568393  \n",
       "thu               93.556380     -40.753323   3.574923  5166.662693  \n",
       "tue               93.577088     -40.034227   3.701038  5168.486094  \n",
       "wed               93.590225     -40.281387   3.726885  5170.425436  "
      ]
     },
     "execution_count": 27,
     "metadata": {},
     "output_type": "execute_result"
    }
   ],
   "source": [
    "data_df.groupby('day_of_week').mean()"
   ]
  },
  {
   "cell_type": "code",
   "execution_count": 28,
   "metadata": {
    "scrolled": false
   },
   "outputs": [
    {
     "data": {
      "text/html": [
       "<div>\n",
       "<style scoped>\n",
       "    .dataframe tbody tr th:only-of-type {\n",
       "        vertical-align: middle;\n",
       "    }\n",
       "\n",
       "    .dataframe tbody tr th {\n",
       "        vertical-align: top;\n",
       "    }\n",
       "\n",
       "    .dataframe thead th {\n",
       "        text-align: right;\n",
       "    }\n",
       "</style>\n",
       "<table border=\"1\" class=\"dataframe\">\n",
       "  <thead>\n",
       "    <tr style=\"text-align: right;\">\n",
       "      <th></th>\n",
       "      <th>age</th>\n",
       "      <th>campaign</th>\n",
       "      <th>pdays</th>\n",
       "      <th>previous</th>\n",
       "      <th>emp.var.rate</th>\n",
       "      <th>cons.price.idx</th>\n",
       "      <th>cons.conf.idx</th>\n",
       "      <th>euribor3m</th>\n",
       "      <th>nr.employed</th>\n",
       "    </tr>\n",
       "    <tr>\n",
       "      <th>poutcome</th>\n",
       "      <th></th>\n",
       "      <th></th>\n",
       "      <th></th>\n",
       "      <th></th>\n",
       "      <th></th>\n",
       "      <th></th>\n",
       "      <th></th>\n",
       "      <th></th>\n",
       "      <th></th>\n",
       "    </tr>\n",
       "  </thead>\n",
       "  <tbody>\n",
       "    <tr>\n",
       "      <th>failure</th>\n",
       "      <td>39.946143</td>\n",
       "      <td>2.005174</td>\n",
       "      <td>0.338664</td>\n",
       "      <td>1.168627</td>\n",
       "      <td>-1.685442</td>\n",
       "      <td>93.067755</td>\n",
       "      <td>-42.720461</td>\n",
       "      <td>1.651071</td>\n",
       "      <td>5092.589534</td>\n",
       "    </tr>\n",
       "    <tr>\n",
       "      <th>nonexistent</th>\n",
       "      <td>39.956190</td>\n",
       "      <td>2.664145</td>\n",
       "      <td>0.000000</td>\n",
       "      <td>0.000000</td>\n",
       "      <td>0.377091</td>\n",
       "      <td>93.645708</td>\n",
       "      <td>-40.319045</td>\n",
       "      <td>3.958189</td>\n",
       "      <td>5181.203492</td>\n",
       "    </tr>\n",
       "    <tr>\n",
       "      <th>success</th>\n",
       "      <td>42.023307</td>\n",
       "      <td>1.808449</td>\n",
       "      <td>5.587764</td>\n",
       "      <td>1.569556</td>\n",
       "      <td>-2.091260</td>\n",
       "      <td>93.334355</td>\n",
       "      <td>-38.388565</td>\n",
       "      <td>0.996563</td>\n",
       "      <td>5030.622433</td>\n",
       "    </tr>\n",
       "  </tbody>\n",
       "</table>\n",
       "</div>"
      ],
      "text/plain": [
       "                   age  campaign     pdays  previous  emp.var.rate  \\\n",
       "poutcome                                                             \n",
       "failure      39.946143  2.005174  0.338664  1.168627     -1.685442   \n",
       "nonexistent  39.956190  2.664145  0.000000  0.000000      0.377091   \n",
       "success      42.023307  1.808449  5.587764  1.569556     -2.091260   \n",
       "\n",
       "             cons.price.idx  cons.conf.idx  euribor3m  nr.employed  \n",
       "poutcome                                                            \n",
       "failure           93.067755     -42.720461   1.651071  5092.589534  \n",
       "nonexistent       93.645708     -40.319045   3.958189  5181.203492  \n",
       "success           93.334355     -38.388565   0.996563  5030.622433  "
      ]
     },
     "execution_count": 28,
     "metadata": {},
     "output_type": "execute_result"
    }
   ],
   "source": [
    "data_df.groupby('poutcome').mean()"
   ]
  },
  {
   "cell_type": "code",
   "execution_count": 29,
   "metadata": {
    "scrolled": false
   },
   "outputs": [
    {
     "data": {
      "image/png": "[encoded data removed]",
      "text/plain": [
       "<Figure size 432x288 with 1 Axes>"
      ]
     },
     "metadata": {
      "needs_background": "light"
     },
     "output_type": "display_data"
    },
    {
     "data": {
      "image/png": "[encoded data removed]",
      "text/plain": [
       "<Figure size 432x288 with 1 Axes>"
      ]
     },
     "metadata": {
      "needs_background": "light"
     },
     "output_type": "display_data"
    },
    {
     "data": {
      "image/png": "[encoded data removed]",
      "text/plain": [
       "<Figure size 432x288 with 1 Axes>"
      ]
     },
     "metadata": {
      "needs_background": "light"
     },
     "output_type": "display_data"
    },
    {
     "data": {
      "image/png": "[encoded data removed]",
      "text/plain": [
       "<Figure size 432x288 with 1 Axes>"
      ]
     },
     "metadata": {
      "needs_background": "light"
     },
     "output_type": "display_data"
    },
    {
     "data": {
      "image/png": "[encoded data removed]",
      "text/plain": [
       "<Figure size 432x288 with 1 Axes>"
      ]
     },
     "metadata": {
      "needs_background": "light"
     },
     "output_type": "display_data"
    },
    {
     "data": {
      "image/png": "[encoded data removed]",
      "text/plain": [
       "<Figure size 432x288 with 1 Axes>"
      ]
     },
     "metadata": {
      "needs_background": "light"
     },
     "output_type": "display_data"
    },
    {
     "data": {
      "image/png": "[encoded data removed]",
      "text/plain": [
       "<Figure size 432x288 with 1 Axes>"
      ]
     },
     "metadata": {
      "needs_background": "light"
     },
     "output_type": "display_data"
    },
    {
     "data": {
      "image/png": "[encoded data removed]",
      "text/plain": [
       "<Figure size 432x288 with 1 Axes>"
      ]
     },
     "metadata": {
      "needs_background": "light"
     },
     "output_type": "display_data"
    },
    {
     "data": {
      "image/png": "[encoded data removed]",
      "text/plain": [
       "<Figure size 432x288 with 1 Axes>"
      ]
     },
     "metadata": {
      "needs_background": "light"
     },
     "output_type": "display_data"
    },
    {
     "data": {
      "image/png": "[encoded data removed]",
      "text/plain": [
       "<Figure size 432x288 with 1 Axes>"
      ]
     },
     "metadata": {
      "needs_background": "light"
     },
     "output_type": "display_data"
    }
   ],
   "source": [
    "for i,col in enumerate(categorical_col.drop('y',axis=1)):\n",
    "    plt.figure(i)\n",
    "    chart = sns.countplot(x=col,data=categorical_col)\n",
    "    chart.set_xticklabels(chart.get_xticklabels(), rotation=45, horizontalalignment='right')"
   ]
  },
  {
   "cell_type": "markdown",
   "metadata": {},
   "source": [
    "#### Observations\n",
    "\n",
    "##### job\n",
    "* We have 12 distinct job groups\n",
    "* Most people work in the admin sector while very few ppl have there job types as unknown\n",
    "\n",
    "##### marital\n",
    "* Majority of the population is married\n",
    "* Few clients have their marital staus as unknown\n",
    "\n",
    "#### education\n",
    "* We have 8 sub groups in the education category\n",
    "* Most of the poplation seems to have some form of education with a very minute percentage as illiterate\n",
    "* We can group the basic education categories in one as basic\n",
    "\n",
    "#### default\n",
    "* Majority of the population is aware of there credit score,most have a good credit score while few don't now\n",
    "\n",
    "####  housing\n",
    "* Most of the population has a housing loan while very few people are not aware\n",
    "\n",
    "#### loan\n",
    "* Most people have no outstanding loans while others do have loans\n",
    "\n",
    "#### contact\n",
    "* We have two forms of contact and most people were contated through their cellular phone\n",
    "\n",
    "#### month\n",
    "* The monthly period seems to start from march to December,their is no data for the first 3 months\n",
    "* The month of May had the most activity while December had the least activity\n",
    "\n",
    "#### day_of_week\n",
    "* Activity during the weekdays seem to be evenly distributed\n",
    "\n",
    "#### poutcome\n",
    "* Most of the previous campaigns were not successful\n",
    "* Most of data for previous campaigns was not there"
   ]
  },
  {
   "cell_type": "markdown",
   "metadata": {},
   "source": [
    "### Bivariate analysis of select columns with respect to the target column"
   ]
  },
  {
   "cell_type": "code",
   "execution_count": 30,
   "metadata": {},
   "outputs": [
    {
     "data": {
      "text/plain": [
       "Text(0, 0.5, 'Response')"
      ]
     },
     "execution_count": 30,
     "metadata": {},
     "output_type": "execute_result"
    },
    {
     "data": {
      "image/png": "[encoded data removed]",
      "text/plain": [
       "<Figure size 432x288 with 1 Axes>"
      ]
     },
     "metadata": {
      "needs_background": "light"
     },
     "output_type": "display_data"
    }
   ],
   "source": [
    "%matplotlib inline\n",
    "pd.crosstab(data_df.job,data_df.y).plot(kind='bar')\n",
    "plt.title('Response based on Job Title')\n",
    "plt.xlabel('Job')\n",
    "plt.ylabel('Response')"
   ]
  },
  {
   "cell_type": "code",
   "execution_count": 31,
   "metadata": {},
   "outputs": [
    {
     "data": {
      "text/plain": [
       "Text(0, 0.5, 'Response')"
      ]
     },
     "execution_count": 31,
     "metadata": {},
     "output_type": "execute_result"
    },
    {
     "data": {
      "image/png": "[encoded data removed]",
      "text/plain": [
       "<Figure size 432x288 with 1 Axes>"
      ]
     },
     "metadata": {
      "needs_background": "light"
     },
     "output_type": "display_data"
    }
   ],
   "source": [
    "pd.crosstab(data_df.education,data_df.y).plot(kind='bar')\n",
    "plt.title('Response based on Education Title')\n",
    "plt.xlabel('Education')\n",
    "plt.ylabel('Response')"
   ]
  },
  {
   "cell_type": "code",
   "execution_count": 32,
   "metadata": {},
   "outputs": [
    {
     "data": {
      "text/plain": [
       "Text(0, 0.5, 'Response')"
      ]
     },
     "execution_count": 32,
     "metadata": {},
     "output_type": "execute_result"
    },
    {
     "data": {
      "image/png": "[encoded data removed]",
      "text/plain": [
       "<Figure size 432x288 with 1 Axes>"
      ]
     },
     "metadata": {
      "needs_background": "light"
     },
     "output_type": "display_data"
    }
   ],
   "source": [
    "pd.crosstab(data_df.marital,data_df.y).plot(kind='bar')\n",
    "plt.title('Response based on Marital Status')\n",
    "plt.xlabel('Marital')\n",
    "plt.ylabel('Response')"
   ]
  },
  {
   "cell_type": "code",
   "execution_count": 33,
   "metadata": {},
   "outputs": [
    {
     "data": {
      "text/plain": [
       "Text(0, 0.5, 'Response')"
      ]
     },
     "execution_count": 33,
     "metadata": {},
     "output_type": "execute_result"
    },
    {
     "data": {
      "image/png": "[encoded data removed]",
      "text/plain": [
       "<Figure size 432x288 with 1 Axes>"
      ]
     },
     "metadata": {
      "needs_background": "light"
     },
     "output_type": "display_data"
    }
   ],
   "source": [
    "pd.crosstab(data_df.default,data_df.y).plot(kind='bar')\n",
    "plt.title('Response based on Default Status')\n",
    "plt.xlabel('Default Status')\n",
    "plt.ylabel('Response')"
   ]
  },
  {
   "cell_type": "code",
   "execution_count": 34,
   "metadata": {},
   "outputs": [
    {
     "data": {
      "text/plain": [
       "Text(0, 0.5, 'Response')"
      ]
     },
     "execution_count": 34,
     "metadata": {},
     "output_type": "execute_result"
    },
    {
     "data": {
      "image/png": "[encoded data removed]",
      "text/plain": [
       "<Figure size 432x288 with 1 Axes>"
      ]
     },
     "metadata": {
      "needs_background": "light"
     },
     "output_type": "display_data"
    }
   ],
   "source": [
    "pd.crosstab(data_df.housing,data_df.y).plot(kind='bar')\n",
    "plt.title('Response based on housing loan')\n",
    "plt.xlabel('Housing Loan Status')\n",
    "plt.ylabel('Response')"
   ]
  },
  {
   "cell_type": "code",
   "execution_count": 35,
   "metadata": {},
   "outputs": [
    {
     "data": {
      "text/plain": [
       "Text(0, 0.5, 'Response')"
      ]
     },
     "execution_count": 35,
     "metadata": {},
     "output_type": "execute_result"
    },
    {
     "data": {
      "image/png": "[encoded data removed]",
      "text/plain": [
       "<Figure size 432x288 with 1 Axes>"
      ]
     },
     "metadata": {
      "needs_background": "light"
     },
     "output_type": "display_data"
    }
   ],
   "source": [
    "pd.crosstab(data_df.loan,data_df.y).plot(kind='bar')\n",
    "plt.title('Response based on Existing Loan')\n",
    "plt.xlabel('Existing Loan')\n",
    "plt.ylabel('Response')"
   ]
  },
  {
   "cell_type": "code",
   "execution_count": 36,
   "metadata": {},
   "outputs": [
    {
     "data": {
      "text/plain": [
       "Text(0, 0.5, 'Response')"
      ]
     },
     "execution_count": 36,
     "metadata": {},
     "output_type": "execute_result"
    },
    {
     "data": {
      "image/png": "[encoded data removed]",
      "text/plain": [
       "<Figure size 432x288 with 1 Axes>"
      ]
     },
     "metadata": {
      "needs_background": "light"
     },
     "output_type": "display_data"
    }
   ],
   "source": [
    "pd.crosstab(data_df.contact,data_df.y).plot(kind='bar')\n",
    "plt.title('Response based on Mode of Contact')\n",
    "plt.xlabel('Mode of Contact')\n",
    "plt.ylabel('Response')"
   ]
  },
  {
   "cell_type": "code",
   "execution_count": 37,
   "metadata": {},
   "outputs": [
    {
     "data": {
      "text/plain": [
       "Text(0, 0.5, 'Response')"
      ]
     },
     "execution_count": 37,
     "metadata": {},
     "output_type": "execute_result"
    },
    {
     "data": {
      "image/png": "[encoded data removed]",
      "text/plain": [
       "<Figure size 432x288 with 1 Axes>"
      ]
     },
     "metadata": {
      "needs_background": "light"
     },
     "output_type": "display_data"
    }
   ],
   "source": [
    "pd.crosstab(data_df.month,data_df.y).plot(kind='bar')\n",
    "plt.title('Response based on Month')\n",
    "plt.xlabel('MOnth')\n",
    "plt.ylabel('Response')"
   ]
  },
  {
   "cell_type": "code",
   "execution_count": 38,
   "metadata": {},
   "outputs": [
    {
     "data": {
      "text/plain": [
       "Text(0, 0.5, 'Response')"
      ]
     },
     "execution_count": 38,
     "metadata": {},
     "output_type": "execute_result"
    },
    {
     "data": {
      "image/png": "[encoded data removed]",
      "text/plain": [
       "<Figure size 432x288 with 1 Axes>"
      ]
     },
     "metadata": {
      "needs_background": "light"
     },
     "output_type": "display_data"
    }
   ],
   "source": [
    "pd.crosstab(data_df.day_of_week,data_df.y).plot(kind='bar')\n",
    "plt.title('Response based on Day of Week')\n",
    "plt.xlabel('day of week')\n",
    "plt.ylabel('Response')"
   ]
  },
  {
   "cell_type": "code",
   "execution_count": 39,
   "metadata": {},
   "outputs": [
    {
     "data": {
      "text/plain": [
       "Text(0, 0.5, 'Response')"
      ]
     },
     "execution_count": 39,
     "metadata": {},
     "output_type": "execute_result"
    },
    {
     "data": {
      "image/png": "[encoded data removed]",
      "text/plain": [
       "<Figure size 432x288 with 1 Axes>"
      ]
     },
     "metadata": {
      "needs_background": "light"
     },
     "output_type": "display_data"
    }
   ],
   "source": [
    "pd.crosstab(data_df.poutcome,data_df.y).plot(kind='bar')\n",
    "plt.title('Response based on outcome of previuos campaign')\n",
    "plt.xlabel('previous campaign')\n",
    "plt.ylabel('Response')"
   ]
  },
  {
   "cell_type": "markdown",
   "metadata": {},
   "source": [
    "#### Observation\n",
    "* Columns such as day of week and marital status may not be good predictors as they seem not to have significant variabilty along the columns\n",
    "* Other columns showed significance variation with our target column in their various sub groups,this will make our model better"
   ]
  },
  {
   "cell_type": "markdown",
   "metadata": {},
   "source": [
    "### Corelation of Numeric Columns to the target column"
   ]
  },
  {
   "cell_type": "code",
   "execution_count": 40,
   "metadata": {},
   "outputs": [],
   "source": [
    "##replcing the no with 0 and yes with 1\n",
    "data_df.y = data_df.y.replace({\"no\": 0,\n",
    "                              \"yes\":1})"
   ]
  },
  {
   "cell_type": "code",
   "execution_count": 41,
   "metadata": {},
   "outputs": [
    {
     "data": {
      "image/png": "[encoded data removed]",
      "text/plain": [
       "<Figure size 864x576 with 1 Axes>"
      ]
     },
     "metadata": {
      "needs_background": "light"
     },
     "output_type": "display_data"
    }
   ],
   "source": [
    "#Bivariate analysis with the numerical columns\n",
    "#plotting correlations\n",
    "labels = []\n",
    "values = []\n",
    "for col in numeric_col:\n",
    "    labels.append(col)\n",
    "    values.append(np.corrcoef(data_df[col].values, data_df.y.values)[0,1])\n",
    "\n",
    "ind = np.arange(len(labels))\n",
    "width = 0.9\n",
    "fig, ax = plt.subplots(figsize=(12,8))\n",
    "rects = ax.barh(ind, np.array(values), color='blue')\n",
    "ax.set_yticks(ind+((width)/2.))\n",
    "ax.set_yticklabels(labels, rotation='horizontal')\n",
    "ax.set_xlabel(\"Correlation coefficient\")\n",
    "ax.set_title(\"Correlation Coefficients w.r.t y\");"
   ]
  },
  {
   "cell_type": "markdown",
   "metadata": {},
   "source": [
    "#### Observation\n",
    "* Previous campaign and pday seem to be highly corelated"
   ]
  },
  {
   "cell_type": "markdown",
   "metadata": {},
   "source": [
    "## Preprocessing our data"
   ]
  },
  {
   "cell_type": "code",
   "execution_count": 42,
   "metadata": {},
   "outputs": [],
   "source": [
    "#Function to treat outliers\n",
    "def outlier_treatment(datacolumn):\n",
    "        sorted(datacolumn)\n",
    "        Q1,Q3 = np.percentile(datacolumn , [25,75])\n",
    "        IQR = Q3 - Q1\n",
    "        lower_range = Q1 -(1.5 * IQR)\n",
    "        upper_range = Q3 + (1.5 * IQR)\n",
    "        return lower_range,upper_range"
   ]
  },
  {
   "cell_type": "code",
   "execution_count": 43,
   "metadata": {},
   "outputs": [],
   "source": [
    "for i in outlier_col.columns:\n",
    "    lower_range,upper_range = outlier_treatment(data_df[i])\n",
    "    data_df.drop(data_df[ (data_df[i] > upper_range) | (data_df[i] < lower_range) ].index , inplace=True)"
   ]
  },
  {
   "cell_type": "code",
   "execution_count": 44,
   "metadata": {},
   "outputs": [
    {
     "data": {
      "text/html": [
       "<div>\n",
       "<style scoped>\n",
       "    .dataframe tbody tr th:only-of-type {\n",
       "        vertical-align: middle;\n",
       "    }\n",
       "\n",
       "    .dataframe tbody tr th {\n",
       "        vertical-align: top;\n",
       "    }\n",
       "\n",
       "    .dataframe thead th {\n",
       "        text-align: right;\n",
       "    }\n",
       "</style>\n",
       "<table border=\"1\" class=\"dataframe\">\n",
       "  <thead>\n",
       "    <tr style=\"text-align: right;\">\n",
       "      <th></th>\n",
       "      <th>Outlier_Count</th>\n",
       "      <th>skewness</th>\n",
       "    </tr>\n",
       "  </thead>\n",
       "  <tbody>\n",
       "    <tr>\n",
       "      <th>age</th>\n",
       "      <td>0.0</td>\n",
       "      <td>0.784697</td>\n",
       "    </tr>\n",
       "    <tr>\n",
       "      <th>campaign</th>\n",
       "      <td>0.0</td>\n",
       "      <td>4.762507</td>\n",
       "    </tr>\n",
       "    <tr>\n",
       "      <th>pdays</th>\n",
       "      <td>0.0</td>\n",
       "      <td>7.939537</td>\n",
       "    </tr>\n",
       "    <tr>\n",
       "      <th>previous</th>\n",
       "      <td>0.0</td>\n",
       "      <td>3.832042</td>\n",
       "    </tr>\n",
       "    <tr>\n",
       "      <th>cons.conf.idx</th>\n",
       "      <td>0.0</td>\n",
       "      <td>0.303180</td>\n",
       "    </tr>\n",
       "  </tbody>\n",
       "</table>\n",
       "</div>"
      ],
      "text/plain": [
       "               Outlier_Count  skewness\n",
       "age                      0.0  0.784697\n",
       "campaign                 0.0  4.762507\n",
       "pdays                    0.0  7.939537\n",
       "previous                 0.0  3.832042\n",
       "cons.conf.idx            0.0  0.303180"
      ]
     },
     "execution_count": 44,
     "metadata": {},
     "output_type": "execute_result"
    }
   ],
   "source": [
    "outliers_count_df = pd.DataFrame(columns=['Outlier_Count','skewness'])\n",
    "for column in data_df[outlier_col.columns]:\n",
    "    if pd.api.types.is_numeric_dtype(data_df[column]):\n",
    "        Q1 = data_df[column].quantile(0.25)\n",
    "        Q3 = data_df[column].quantile(0.75)\n",
    "        IQR = Q3-Q1\n",
    "        lower_whisker = Q1-1.5*IQR\n",
    "        upper_whisker = Q3+1.5*IQR\n",
    "        outliers_count_df.loc[column] = [((data_df[column]<lower_whisker) | (data_df[column] > upper_whisker)).sum(),numeric_col[column].skew()]\n",
    "outliers_count_df"
   ]
  },
  {
   "cell_type": "code",
   "execution_count": 45,
   "metadata": {},
   "outputs": [
    {
     "data": {
      "text/html": [
       "<div>\n",
       "<style scoped>\n",
       "    .dataframe tbody tr th:only-of-type {\n",
       "        vertical-align: middle;\n",
       "    }\n",
       "\n",
       "    .dataframe tbody tr th {\n",
       "        vertical-align: top;\n",
       "    }\n",
       "\n",
       "    .dataframe thead th {\n",
       "        text-align: right;\n",
       "    }\n",
       "</style>\n",
       "<table border=\"1\" class=\"dataframe\">\n",
       "  <thead>\n",
       "    <tr style=\"text-align: right;\">\n",
       "      <th></th>\n",
       "      <th>age</th>\n",
       "      <th>campaign</th>\n",
       "      <th>pdays</th>\n",
       "      <th>previous</th>\n",
       "      <th>emp.var.rate</th>\n",
       "      <th>cons.price.idx</th>\n",
       "      <th>cons.conf.idx</th>\n",
       "      <th>euribor3m</th>\n",
       "      <th>nr.employed</th>\n",
       "      <th>y</th>\n",
       "    </tr>\n",
       "  </thead>\n",
       "  <tbody>\n",
       "    <tr>\n",
       "      <th>count</th>\n",
       "      <td>3.276500e+04</td>\n",
       "      <td>3.276500e+04</td>\n",
       "      <td>32765.0</td>\n",
       "      <td>32765.0</td>\n",
       "      <td>3.276500e+04</td>\n",
       "      <td>3.276500e+04</td>\n",
       "      <td>3.276500e+04</td>\n",
       "      <td>3.276500e+04</td>\n",
       "      <td>3.276500e+04</td>\n",
       "      <td>32765.000000</td>\n",
       "    </tr>\n",
       "    <tr>\n",
       "      <th>mean</th>\n",
       "      <td>3.539160e-16</td>\n",
       "      <td>3.122788e-17</td>\n",
       "      <td>0.0</td>\n",
       "      <td>0.0</td>\n",
       "      <td>2.775812e-16</td>\n",
       "      <td>1.554455e-15</td>\n",
       "      <td>6.661948e-16</td>\n",
       "      <td>-1.665487e-16</td>\n",
       "      <td>3.442007e-15</td>\n",
       "      <td>0.086861</td>\n",
       "    </tr>\n",
       "    <tr>\n",
       "      <th>std</th>\n",
       "      <td>1.000015e+00</td>\n",
       "      <td>1.000015e+00</td>\n",
       "      <td>0.0</td>\n",
       "      <td>0.0</td>\n",
       "      <td>1.000015e+00</td>\n",
       "      <td>1.000015e+00</td>\n",
       "      <td>1.000015e+00</td>\n",
       "      <td>1.000015e+00</td>\n",
       "      <td>1.000015e+00</td>\n",
       "      <td>0.281636</td>\n",
       "    </tr>\n",
       "    <tr>\n",
       "      <th>min</th>\n",
       "      <td>-2.283344e+00</td>\n",
       "      <td>-8.343910e-01</td>\n",
       "      <td>0.0</td>\n",
       "      <td>0.0</td>\n",
       "      <td>-2.673646e+00</td>\n",
       "      <td>-2.690222e+00</td>\n",
       "      <td>-2.490007e+00</td>\n",
       "      <td>-2.140839e+00</td>\n",
       "      <td>-3.589122e+00</td>\n",
       "      <td>0.000000</td>\n",
       "    </tr>\n",
       "    <tr>\n",
       "      <th>25%</th>\n",
       "      <td>-8.063664e-01</td>\n",
       "      <td>-8.343910e-01</td>\n",
       "      <td>0.0</td>\n",
       "      <td>0.0</td>\n",
       "      <td>-3.442465e-01</td>\n",
       "      <td>-8.320847e-01</td>\n",
       "      <td>-5.430842e-01</td>\n",
       "      <td>3.399360e-02</td>\n",
       "      <td>1.504897e-01</td>\n",
       "      <td>0.000000</td>\n",
       "    </tr>\n",
       "    <tr>\n",
       "      <th>50%</th>\n",
       "      <td>-1.733760e-01</td>\n",
       "      <td>-6.504187e-02</td>\n",
       "      <td>0.0</td>\n",
       "      <td>0.0</td>\n",
       "      <td>5.028079e-01</td>\n",
       "      <td>5.033932e-01</td>\n",
       "      <td>-3.267594e-01</td>\n",
       "      <td>5.720834e-01</td>\n",
       "      <td>2.294261e-01</td>\n",
       "      <td>0.000000</td>\n",
       "    </tr>\n",
       "    <tr>\n",
       "      <th>75%</th>\n",
       "      <td>7.761094e-01</td>\n",
       "      <td>7.043072e-01</td>\n",
       "      <td>0.0</td>\n",
       "      <td>0.0</td>\n",
       "      <td>7.145715e-01</td>\n",
       "      <td>6.447530e-01</td>\n",
       "      <td>9.711891e-01</td>\n",
       "      <td>6.382209e-01</td>\n",
       "      <td>7.606022e-01</td>\n",
       "      <td>0.000000</td>\n",
       "    </tr>\n",
       "    <tr>\n",
       "      <th>max</th>\n",
       "      <td>3.097074e+00</td>\n",
       "      <td>3.012354e+00</td>\n",
       "      <td>0.0</td>\n",
       "      <td>0.0</td>\n",
       "      <td>7.145715e-01</td>\n",
       "      <td>2.082531e+00</td>\n",
       "      <td>2.557571e+00</td>\n",
       "      <td>6.915162e-01</td>\n",
       "      <td>7.606022e-01</td>\n",
       "      <td>1.000000</td>\n",
       "    </tr>\n",
       "  </tbody>\n",
       "</table>\n",
       "</div>"
      ],
      "text/plain": [
       "                age      campaign    pdays  previous  emp.var.rate  \\\n",
       "count  3.276500e+04  3.276500e+04  32765.0   32765.0  3.276500e+04   \n",
       "mean   3.539160e-16  3.122788e-17      0.0       0.0  2.775812e-16   \n",
       "std    1.000015e+00  1.000015e+00      0.0       0.0  1.000015e+00   \n",
       "min   -2.283344e+00 -8.343910e-01      0.0       0.0 -2.673646e+00   \n",
       "25%   -8.063664e-01 -8.343910e-01      0.0       0.0 -3.442465e-01   \n",
       "50%   -1.733760e-01 -6.504187e-02      0.0       0.0  5.028079e-01   \n",
       "75%    7.761094e-01  7.043072e-01      0.0       0.0  7.145715e-01   \n",
       "max    3.097074e+00  3.012354e+00      0.0       0.0  7.145715e-01   \n",
       "\n",
       "       cons.price.idx  cons.conf.idx     euribor3m   nr.employed             y  \n",
       "count    3.276500e+04   3.276500e+04  3.276500e+04  3.276500e+04  32765.000000  \n",
       "mean     1.554455e-15   6.661948e-16 -1.665487e-16  3.442007e-15      0.086861  \n",
       "std      1.000015e+00   1.000015e+00  1.000015e+00  1.000015e+00      0.281636  \n",
       "min     -2.690222e+00  -2.490007e+00 -2.140839e+00 -3.589122e+00      0.000000  \n",
       "25%     -8.320847e-01  -5.430842e-01  3.399360e-02  1.504897e-01      0.000000  \n",
       "50%      5.033932e-01  -3.267594e-01  5.720834e-01  2.294261e-01      0.000000  \n",
       "75%      6.447530e-01   9.711891e-01  6.382209e-01  7.606022e-01      0.000000  \n",
       "max      2.082531e+00   2.557571e+00  6.915162e-01  7.606022e-01      1.000000  "
      ]
     },
     "execution_count": 45,
     "metadata": {},
     "output_type": "execute_result"
    }
   ],
   "source": [
    "#standardizing with sklearn\n",
    "from sklearn.preprocessing import StandardScaler\n",
    "scale = StandardScaler()\n",
    "\n",
    "for i in numeric_col:\n",
    "    data_df[i] = scale.fit_transform(data_df[[i]])\n",
    "data_df.describe()"
   ]
  },
  {
   "cell_type": "code",
   "execution_count": 46,
   "metadata": {},
   "outputs": [],
   "source": [
    "#having all the basic categories in one sub column of basic\n",
    "data_df.education = data_df.education.replace({\"basic.4y\":\"basic\",\n",
    "                                              \"basic.6y\":\"basic\",\n",
    "                                               \"basic.9y\":\"basic\"})"
   ]
  },
  {
   "cell_type": "code",
   "execution_count": 47,
   "metadata": {},
   "outputs": [
    {
     "data": {
      "text/html": [
       "<div>\n",
       "<style scoped>\n",
       "    .dataframe tbody tr th:only-of-type {\n",
       "        vertical-align: middle;\n",
       "    }\n",
       "\n",
       "    .dataframe tbody tr th {\n",
       "        vertical-align: top;\n",
       "    }\n",
       "\n",
       "    .dataframe thead th {\n",
       "        text-align: right;\n",
       "    }\n",
       "</style>\n",
       "<table border=\"1\" class=\"dataframe\">\n",
       "  <thead>\n",
       "    <tr style=\"text-align: right;\">\n",
       "      <th></th>\n",
       "      <th>age</th>\n",
       "      <th>job</th>\n",
       "      <th>marital</th>\n",
       "      <th>education</th>\n",
       "      <th>default</th>\n",
       "      <th>housing</th>\n",
       "      <th>loan</th>\n",
       "      <th>contact</th>\n",
       "      <th>month</th>\n",
       "      <th>day_of_week</th>\n",
       "      <th>campaign</th>\n",
       "      <th>pdays</th>\n",
       "      <th>previous</th>\n",
       "      <th>poutcome</th>\n",
       "      <th>emp.var.rate</th>\n",
       "      <th>cons.price.idx</th>\n",
       "      <th>cons.conf.idx</th>\n",
       "      <th>euribor3m</th>\n",
       "      <th>nr.employed</th>\n",
       "      <th>y</th>\n",
       "    </tr>\n",
       "  </thead>\n",
       "  <tbody>\n",
       "    <tr>\n",
       "      <th>0</th>\n",
       "      <td>1.725595</td>\n",
       "      <td>housemaid</td>\n",
       "      <td>married</td>\n",
       "      <td>basic</td>\n",
       "      <td>no</td>\n",
       "      <td>no</td>\n",
       "      <td>no</td>\n",
       "      <td>telephone</td>\n",
       "      <td>may</td>\n",
       "      <td>mon</td>\n",
       "      <td>-0.834391</td>\n",
       "      <td>0.0</td>\n",
       "      <td>0.0</td>\n",
       "      <td>nonexistent</td>\n",
       "      <td>0.502808</td>\n",
       "      <td>0.644753</td>\n",
       "      <td>0.971189</td>\n",
       "      <td>0.570799</td>\n",
       "      <td>0.15049</td>\n",
       "      <td>0</td>\n",
       "    </tr>\n",
       "    <tr>\n",
       "      <th>1</th>\n",
       "      <td>1.831093</td>\n",
       "      <td>services</td>\n",
       "      <td>married</td>\n",
       "      <td>high.school</td>\n",
       "      <td>unknown</td>\n",
       "      <td>no</td>\n",
       "      <td>no</td>\n",
       "      <td>telephone</td>\n",
       "      <td>may</td>\n",
       "      <td>mon</td>\n",
       "      <td>-0.834391</td>\n",
       "      <td>0.0</td>\n",
       "      <td>0.0</td>\n",
       "      <td>nonexistent</td>\n",
       "      <td>0.502808</td>\n",
       "      <td>0.644753</td>\n",
       "      <td>0.971189</td>\n",
       "      <td>0.570799</td>\n",
       "      <td>0.15049</td>\n",
       "      <td>0</td>\n",
       "    </tr>\n",
       "    <tr>\n",
       "      <th>2</th>\n",
       "      <td>-0.278874</td>\n",
       "      <td>services</td>\n",
       "      <td>married</td>\n",
       "      <td>high.school</td>\n",
       "      <td>no</td>\n",
       "      <td>yes</td>\n",
       "      <td>no</td>\n",
       "      <td>telephone</td>\n",
       "      <td>may</td>\n",
       "      <td>mon</td>\n",
       "      <td>-0.834391</td>\n",
       "      <td>0.0</td>\n",
       "      <td>0.0</td>\n",
       "      <td>nonexistent</td>\n",
       "      <td>0.502808</td>\n",
       "      <td>0.644753</td>\n",
       "      <td>0.971189</td>\n",
       "      <td>0.570799</td>\n",
       "      <td>0.15049</td>\n",
       "      <td>0</td>\n",
       "    </tr>\n",
       "    <tr>\n",
       "      <th>3</th>\n",
       "      <td>0.037621</td>\n",
       "      <td>admin.</td>\n",
       "      <td>married</td>\n",
       "      <td>basic</td>\n",
       "      <td>no</td>\n",
       "      <td>no</td>\n",
       "      <td>no</td>\n",
       "      <td>telephone</td>\n",
       "      <td>may</td>\n",
       "      <td>mon</td>\n",
       "      <td>-0.834391</td>\n",
       "      <td>0.0</td>\n",
       "      <td>0.0</td>\n",
       "      <td>nonexistent</td>\n",
       "      <td>0.502808</td>\n",
       "      <td>0.644753</td>\n",
       "      <td>0.971189</td>\n",
       "      <td>0.570799</td>\n",
       "      <td>0.15049</td>\n",
       "      <td>0</td>\n",
       "    </tr>\n",
       "    <tr>\n",
       "      <th>4</th>\n",
       "      <td>1.725595</td>\n",
       "      <td>services</td>\n",
       "      <td>married</td>\n",
       "      <td>high.school</td>\n",
       "      <td>no</td>\n",
       "      <td>no</td>\n",
       "      <td>yes</td>\n",
       "      <td>telephone</td>\n",
       "      <td>may</td>\n",
       "      <td>mon</td>\n",
       "      <td>-0.834391</td>\n",
       "      <td>0.0</td>\n",
       "      <td>0.0</td>\n",
       "      <td>nonexistent</td>\n",
       "      <td>0.502808</td>\n",
       "      <td>0.644753</td>\n",
       "      <td>0.971189</td>\n",
       "      <td>0.570799</td>\n",
       "      <td>0.15049</td>\n",
       "      <td>0</td>\n",
       "    </tr>\n",
       "  </tbody>\n",
       "</table>\n",
       "</div>"
      ],
      "text/plain": [
       "        age        job  marital    education  default housing loan    contact  \\\n",
       "0  1.725595  housemaid  married        basic       no      no   no  telephone   \n",
       "1  1.831093   services  married  high.school  unknown      no   no  telephone   \n",
       "2 -0.278874   services  married  high.school       no     yes   no  telephone   \n",
       "3  0.037621     admin.  married        basic       no      no   no  telephone   \n",
       "4  1.725595   services  married  high.school       no      no  yes  telephone   \n",
       "\n",
       "  month day_of_week  campaign  pdays  previous     poutcome  emp.var.rate  \\\n",
       "0   may         mon -0.834391    0.0       0.0  nonexistent      0.502808   \n",
       "1   may         mon -0.834391    0.0       0.0  nonexistent      0.502808   \n",
       "2   may         mon -0.834391    0.0       0.0  nonexistent      0.502808   \n",
       "3   may         mon -0.834391    0.0       0.0  nonexistent      0.502808   \n",
       "4   may         mon -0.834391    0.0       0.0  nonexistent      0.502808   \n",
       "\n",
       "   cons.price.idx  cons.conf.idx  euribor3m  nr.employed  y  \n",
       "0        0.644753       0.971189   0.570799      0.15049  0  \n",
       "1        0.644753       0.971189   0.570799      0.15049  0  \n",
       "2        0.644753       0.971189   0.570799      0.15049  0  \n",
       "3        0.644753       0.971189   0.570799      0.15049  0  \n",
       "4        0.644753       0.971189   0.570799      0.15049  0  "
      ]
     },
     "execution_count": 47,
     "metadata": {},
     "output_type": "execute_result"
    }
   ],
   "source": [
    "data_df.head()"
   ]
  },
  {
   "cell_type": "code",
   "execution_count": 48,
   "metadata": {},
   "outputs": [
    {
     "data": {
      "text/html": [
       "<div>\n",
       "<style scoped>\n",
       "    .dataframe tbody tr th:only-of-type {\n",
       "        vertical-align: middle;\n",
       "    }\n",
       "\n",
       "    .dataframe tbody tr th {\n",
       "        vertical-align: top;\n",
       "    }\n",
       "\n",
       "    .dataframe thead th {\n",
       "        text-align: right;\n",
       "    }\n",
       "</style>\n",
       "<table border=\"1\" class=\"dataframe\">\n",
       "  <thead>\n",
       "    <tr style=\"text-align: right;\">\n",
       "      <th></th>\n",
       "      <th>age</th>\n",
       "      <th>campaign</th>\n",
       "      <th>pdays</th>\n",
       "      <th>previous</th>\n",
       "      <th>emp.var.rate</th>\n",
       "      <th>cons.price.idx</th>\n",
       "      <th>cons.conf.idx</th>\n",
       "      <th>euribor3m</th>\n",
       "      <th>nr.employed</th>\n",
       "      <th>y</th>\n",
       "      <th>...</th>\n",
       "      <th>month_may</th>\n",
       "      <th>month_nov</th>\n",
       "      <th>month_oct</th>\n",
       "      <th>month_sep</th>\n",
       "      <th>day_of_week_fri</th>\n",
       "      <th>day_of_week_mon</th>\n",
       "      <th>day_of_week_thu</th>\n",
       "      <th>day_of_week_tue</th>\n",
       "      <th>day_of_week_wed</th>\n",
       "      <th>poutcome_nonexistent</th>\n",
       "    </tr>\n",
       "  </thead>\n",
       "  <tbody>\n",
       "    <tr>\n",
       "      <th>0</th>\n",
       "      <td>1.725595</td>\n",
       "      <td>-0.834391</td>\n",
       "      <td>0.0</td>\n",
       "      <td>0.0</td>\n",
       "      <td>0.502808</td>\n",
       "      <td>0.644753</td>\n",
       "      <td>0.971189</td>\n",
       "      <td>0.570799</td>\n",
       "      <td>0.15049</td>\n",
       "      <td>0</td>\n",
       "      <td>...</td>\n",
       "      <td>1</td>\n",
       "      <td>0</td>\n",
       "      <td>0</td>\n",
       "      <td>0</td>\n",
       "      <td>0</td>\n",
       "      <td>1</td>\n",
       "      <td>0</td>\n",
       "      <td>0</td>\n",
       "      <td>0</td>\n",
       "      <td>1</td>\n",
       "    </tr>\n",
       "    <tr>\n",
       "      <th>1</th>\n",
       "      <td>1.831093</td>\n",
       "      <td>-0.834391</td>\n",
       "      <td>0.0</td>\n",
       "      <td>0.0</td>\n",
       "      <td>0.502808</td>\n",
       "      <td>0.644753</td>\n",
       "      <td>0.971189</td>\n",
       "      <td>0.570799</td>\n",
       "      <td>0.15049</td>\n",
       "      <td>0</td>\n",
       "      <td>...</td>\n",
       "      <td>1</td>\n",
       "      <td>0</td>\n",
       "      <td>0</td>\n",
       "      <td>0</td>\n",
       "      <td>0</td>\n",
       "      <td>1</td>\n",
       "      <td>0</td>\n",
       "      <td>0</td>\n",
       "      <td>0</td>\n",
       "      <td>1</td>\n",
       "    </tr>\n",
       "    <tr>\n",
       "      <th>2</th>\n",
       "      <td>-0.278874</td>\n",
       "      <td>-0.834391</td>\n",
       "      <td>0.0</td>\n",
       "      <td>0.0</td>\n",
       "      <td>0.502808</td>\n",
       "      <td>0.644753</td>\n",
       "      <td>0.971189</td>\n",
       "      <td>0.570799</td>\n",
       "      <td>0.15049</td>\n",
       "      <td>0</td>\n",
       "      <td>...</td>\n",
       "      <td>1</td>\n",
       "      <td>0</td>\n",
       "      <td>0</td>\n",
       "      <td>0</td>\n",
       "      <td>0</td>\n",
       "      <td>1</td>\n",
       "      <td>0</td>\n",
       "      <td>0</td>\n",
       "      <td>0</td>\n",
       "      <td>1</td>\n",
       "    </tr>\n",
       "    <tr>\n",
       "      <th>3</th>\n",
       "      <td>0.037621</td>\n",
       "      <td>-0.834391</td>\n",
       "      <td>0.0</td>\n",
       "      <td>0.0</td>\n",
       "      <td>0.502808</td>\n",
       "      <td>0.644753</td>\n",
       "      <td>0.971189</td>\n",
       "      <td>0.570799</td>\n",
       "      <td>0.15049</td>\n",
       "      <td>0</td>\n",
       "      <td>...</td>\n",
       "      <td>1</td>\n",
       "      <td>0</td>\n",
       "      <td>0</td>\n",
       "      <td>0</td>\n",
       "      <td>0</td>\n",
       "      <td>1</td>\n",
       "      <td>0</td>\n",
       "      <td>0</td>\n",
       "      <td>0</td>\n",
       "      <td>1</td>\n",
       "    </tr>\n",
       "    <tr>\n",
       "      <th>4</th>\n",
       "      <td>1.725595</td>\n",
       "      <td>-0.834391</td>\n",
       "      <td>0.0</td>\n",
       "      <td>0.0</td>\n",
       "      <td>0.502808</td>\n",
       "      <td>0.644753</td>\n",
       "      <td>0.971189</td>\n",
       "      <td>0.570799</td>\n",
       "      <td>0.15049</td>\n",
       "      <td>0</td>\n",
       "      <td>...</td>\n",
       "      <td>1</td>\n",
       "      <td>0</td>\n",
       "      <td>0</td>\n",
       "      <td>0</td>\n",
       "      <td>0</td>\n",
       "      <td>1</td>\n",
       "      <td>0</td>\n",
       "      <td>0</td>\n",
       "      <td>0</td>\n",
       "      <td>1</td>\n",
       "    </tr>\n",
       "  </tbody>\n",
       "</table>\n",
       "<p>5 rows × 59 columns</p>\n",
       "</div>"
      ],
      "text/plain": [
       "        age  campaign  pdays  previous  emp.var.rate  cons.price.idx  \\\n",
       "0  1.725595 -0.834391    0.0       0.0      0.502808        0.644753   \n",
       "1  1.831093 -0.834391    0.0       0.0      0.502808        0.644753   \n",
       "2 -0.278874 -0.834391    0.0       0.0      0.502808        0.644753   \n",
       "3  0.037621 -0.834391    0.0       0.0      0.502808        0.644753   \n",
       "4  1.725595 -0.834391    0.0       0.0      0.502808        0.644753   \n",
       "\n",
       "   cons.conf.idx  euribor3m  nr.employed  y  ...  month_may  month_nov  \\\n",
       "0       0.971189   0.570799      0.15049  0  ...          1          0   \n",
       "1       0.971189   0.570799      0.15049  0  ...          1          0   \n",
       "2       0.971189   0.570799      0.15049  0  ...          1          0   \n",
       "3       0.971189   0.570799      0.15049  0  ...          1          0   \n",
       "4       0.971189   0.570799      0.15049  0  ...          1          0   \n",
       "\n",
       "   month_oct  month_sep  day_of_week_fri  day_of_week_mon  day_of_week_thu  \\\n",
       "0          0          0                0                1                0   \n",
       "1          0          0                0                1                0   \n",
       "2          0          0                0                1                0   \n",
       "3          0          0                0                1                0   \n",
       "4          0          0                0                1                0   \n",
       "\n",
       "   day_of_week_tue  day_of_week_wed  poutcome_nonexistent  \n",
       "0                0                0                     1  \n",
       "1                0                0                     1  \n",
       "2                0                0                     1  \n",
       "3                0                0                     1  \n",
       "4                0                0                     1  \n",
       "\n",
       "[5 rows x 59 columns]"
      ]
     },
     "execution_count": 48,
     "metadata": {},
     "output_type": "execute_result"
    }
   ],
   "source": [
    "#encoding the data of the categorical columns\n",
    "\n",
    "#OneHotEncoder is used on normal categories i.e they are just categories\n",
    "data_encoded = pd.get_dummies(data_df,columns = categorical_col.drop('y',axis=1).columns)\n",
    "data_encoded.head()"
   ]
  },
  {
   "cell_type": "code",
   "execution_count": 49,
   "metadata": {},
   "outputs": [
    {
     "name": "stdout",
     "output_type": "stream",
     "text": [
      "<class 'pandas.core.frame.DataFrame'>\n",
      "Int64Index: 32765 entries, 0 to 41186\n",
      "Data columns (total 59 columns):\n",
      " #   Column                         Non-Null Count  Dtype  \n",
      "---  ------                         --------------  -----  \n",
      " 0   age                            32765 non-null  float64\n",
      " 1   campaign                       32765 non-null  float64\n",
      " 2   pdays                          32765 non-null  float64\n",
      " 3   previous                       32765 non-null  float64\n",
      " 4   emp.var.rate                   32765 non-null  float64\n",
      " 5   cons.price.idx                 32765 non-null  float64\n",
      " 6   cons.conf.idx                  32765 non-null  float64\n",
      " 7   euribor3m                      32765 non-null  float64\n",
      " 8   nr.employed                    32765 non-null  float64\n",
      " 9   y                              32765 non-null  int64  \n",
      " 10  job_admin.                     32765 non-null  uint8  \n",
      " 11  job_blue-collar                32765 non-null  uint8  \n",
      " 12  job_entrepreneur               32765 non-null  uint8  \n",
      " 13  job_housemaid                  32765 non-null  uint8  \n",
      " 14  job_management                 32765 non-null  uint8  \n",
      " 15  job_retired                    32765 non-null  uint8  \n",
      " 16  job_self-employed              32765 non-null  uint8  \n",
      " 17  job_services                   32765 non-null  uint8  \n",
      " 18  job_student                    32765 non-null  uint8  \n",
      " 19  job_technician                 32765 non-null  uint8  \n",
      " 20  job_unemployed                 32765 non-null  uint8  \n",
      " 21  job_unknown                    32765 non-null  uint8  \n",
      " 22  marital_divorced               32765 non-null  uint8  \n",
      " 23  marital_married                32765 non-null  uint8  \n",
      " 24  marital_single                 32765 non-null  uint8  \n",
      " 25  marital_unknown                32765 non-null  uint8  \n",
      " 26  education_basic                32765 non-null  uint8  \n",
      " 27  education_high.school          32765 non-null  uint8  \n",
      " 28  education_illiterate           32765 non-null  uint8  \n",
      " 29  education_professional.course  32765 non-null  uint8  \n",
      " 30  education_university.degree    32765 non-null  uint8  \n",
      " 31  education_unknown              32765 non-null  uint8  \n",
      " 32  default_no                     32765 non-null  uint8  \n",
      " 33  default_unknown                32765 non-null  uint8  \n",
      " 34  default_yes                    32765 non-null  uint8  \n",
      " 35  housing_no                     32765 non-null  uint8  \n",
      " 36  housing_unknown                32765 non-null  uint8  \n",
      " 37  housing_yes                    32765 non-null  uint8  \n",
      " 38  loan_no                        32765 non-null  uint8  \n",
      " 39  loan_unknown                   32765 non-null  uint8  \n",
      " 40  loan_yes                       32765 non-null  uint8  \n",
      " 41  contact_cellular               32765 non-null  uint8  \n",
      " 42  contact_telephone              32765 non-null  uint8  \n",
      " 43  month_apr                      32765 non-null  uint8  \n",
      " 44  month_aug                      32765 non-null  uint8  \n",
      " 45  month_dec                      32765 non-null  uint8  \n",
      " 46  month_jul                      32765 non-null  uint8  \n",
      " 47  month_jun                      32765 non-null  uint8  \n",
      " 48  month_mar                      32765 non-null  uint8  \n",
      " 49  month_may                      32765 non-null  uint8  \n",
      " 50  month_nov                      32765 non-null  uint8  \n",
      " 51  month_oct                      32765 non-null  uint8  \n",
      " 52  month_sep                      32765 non-null  uint8  \n",
      " 53  day_of_week_fri                32765 non-null  uint8  \n",
      " 54  day_of_week_mon                32765 non-null  uint8  \n",
      " 55  day_of_week_thu                32765 non-null  uint8  \n",
      " 56  day_of_week_tue                32765 non-null  uint8  \n",
      " 57  day_of_week_wed                32765 non-null  uint8  \n",
      " 58  poutcome_nonexistent           32765 non-null  uint8  \n",
      "dtypes: float64(9), int64(1), uint8(49)\n",
      "memory usage: 4.3 MB\n"
     ]
    }
   ],
   "source": [
    "data_encoded.info()"
   ]
  },
  {
   "cell_type": "code",
   "execution_count": 50,
   "metadata": {},
   "outputs": [
    {
     "name": "stdout",
     "output_type": "stream",
     "text": [
      "Requirement already satisfied: imblearn in /home/gtechzilla/anaconda3/envs/week_6/lib/python3.8/site-packages (0.0)\n",
      "Requirement already satisfied: imbalanced-learn in /home/gtechzilla/anaconda3/envs/week_6/lib/python3.8/site-packages (from imblearn) (0.7.0)\n",
      "Requirement already satisfied: joblib>=0.11 in /home/gtechzilla/anaconda3/envs/week_6/lib/python3.8/site-packages (from imbalanced-learn->imblearn) (0.16.0)\n",
      "Requirement already satisfied: scipy>=0.19.1 in /home/gtechzilla/anaconda3/envs/week_6/lib/python3.8/site-packages (from imbalanced-learn->imblearn) (1.5.2)\n",
      "Requirement already satisfied: numpy>=1.13.3 in /home/gtechzilla/anaconda3/envs/week_6/lib/python3.8/site-packages (from imbalanced-learn->imblearn) (1.19.1)\n",
      "Requirement already satisfied: scikit-learn>=0.23 in /home/gtechzilla/anaconda3/envs/week_6/lib/python3.8/site-packages (from imbalanced-learn->imblearn) (0.23.1)\n",
      "Requirement already satisfied: threadpoolctl>=2.0.0 in /home/gtechzilla/anaconda3/envs/week_6/lib/python3.8/site-packages (from scikit-learn>=0.23->imbalanced-learn->imblearn) (2.1.0)\n",
      "length of oversampled data is  53852\n",
      "Number of no subscription in oversampled data 26926\n",
      "Number of subscription 26926\n",
      "Proportion of yes subscription data in oversampled data is  0.5\n",
      "Proportion of subscription data in oversampled data is  0.5\n"
     ]
    }
   ],
   "source": [
    "!pip install imblearn\n",
    "\n",
    "#SOlving the imbalance in the target column\n",
    "from imblearn.over_sampling import SMOTE\n",
    "smote = SMOTE(random_state=0)\n",
    "train = data_encoded.drop('y',axis=1)\n",
    "target = data_encoded['y']\n",
    "\n",
    "from sklearn.model_selection import train_test_split\n",
    "X_train, X_test, y_train, y_test = train_test_split(train,target, test_size=0.1, random_state=42)\n",
    "columns = X_train.columns\n",
    "\n",
    "smote_train,smote_target=smote.fit_sample(X_train, y_train)\n",
    "smote_train = pd.DataFrame(data=smote_train,columns=columns )\n",
    "smote_target= pd.DataFrame(data=smote_target,columns=['y'])\n",
    "# we can Check the numbers of our data\n",
    "print(\"length of oversampled data is \",len(smote_train))\n",
    "print(\"Number of no subscription in oversampled data\",len(smote_target[smote_target['y']==0]))\n",
    "print(\"Number of subscription\",len(smote_target[smote_target['y']==1]))\n",
    "print(\"Proportion of yes subscription data in oversampled data is \",len(smote_target[smote_target['y']==1])/len(smote_target))\n",
    "print(\"Proportion of subscription data in oversampled data is \",len(smote_target[smote_target['y']==1])/len(smote_target))"
   ]
  },
  {
   "cell_type": "code",
   "execution_count": null,
   "metadata": {},
   "outputs": [],
   "source": [
    "## Model Selection and Evaluation"
   ]
  },
  {
   "cell_type": "code",
   "execution_count": 51,
   "metadata": {},
   "outputs": [],
   "source": [
    "import os \n",
    "#Xgboost Classifier\n",
    "from xgboost import XGBClassifier\n",
    "from sklearn.linear_model import LogisticRegression\n",
    "from sklearn import metrics\n",
    "from sklearn.metrics import confusion_matrix\n",
    "from sklearn.metrics import classification_report\n",
    "from sklearn.decomposition import PCA\n",
    "from sklearn.model_selection import KFold\n",
    "from sklearn.model_selection import StratifiedKFold\n",
    " \n",
    "# Logistic Regression\n",
    "from sklearn.linear_model import LogisticRegression\n",
    "\n",
    "# XGBoost\n",
    "from xgboost import XGBClassifier\n",
    "\n",
    "# multilayer perceptron\n",
    "from sklearn.neural_network import MLPClassifier\n",
    "\n",
    "from sklearn import tree\n",
    "from sklearn.neural_network import MLPClassifier\n",
    "\n",
    "from sklearn.gaussian_process.kernels import RBF\n",
    "from sklearn.ensemble import RandomForestClassifier\n",
    "\n",
    "# performance metrics\n",
    "from sklearn.metrics import accuracy_score, confusion_matrix, precision_score, recall_score, f1_score\n",
    "from sklearn.metrics import classification_report, precision_recall_curve\n",
    "\n",
    "# model explanation\n",
    "from sklearn.metrics import roc_curve, roc_auc_score\n",
    "from sklearn.metrics import auc\n"
   ]
  },
  {
   "cell_type": "code",
   "execution_count": 52,
   "metadata": {},
   "outputs": [],
   "source": [
    "\n",
    "figure_path = os.path.join(os.path.pardir, 'reports','figures')"
   ]
  },
  {
   "cell_type": "code",
   "execution_count": 56,
   "metadata": {},
   "outputs": [],
   "source": [
    "def model_classifier(model, X, y, cv):\n",
    "    \"\"\"\n",
    "    Creates folds manually, perform \n",
    "    Returns an array of validation (recall) scores\n",
    "    \"\"\"\n",
    "    scores = []\n",
    "    \n",
    "    \n",
    "    for train_index,test_index in cv.split(X,y):\n",
    "        X_train,X_test = X.loc[train_index],X.loc[test_index]\n",
    "        y_train,y_test = y.loc[train_index],y.loc[test_index]\n",
    "\n",
    "        # Fit the model on the training data\n",
    "        model_obj = model.fit(X_train, y_train)\n",
    "        y_pred = model_obj.predict(X_test)\n",
    "        y_pred_prob = model_obj.predict_proba(X_test)[:,1]\n",
    "        # Score the model on the validation data\n",
    "        score = accuracy_score(y_test, y_pred)\n",
    "        report = classification_report(y_test, y_pred)\n",
    "        conf_matrix = confusion_matrix(y_test, y_pred)\n",
    "        \n",
    "        scores.append(score)\n",
    "        mean_score = np.array(scores).mean()    \n",
    "\n",
    "    print('Accuracy scores of the model: {:.2f}'.format(mean_score))\n",
    "    print('\\n Classification report of the model')\n",
    "    print('--------------------------------------')\n",
    "    print(report)\n",
    "    \n",
    "    print('\\n Confusion Matrix of the model')\n",
    "    print('--------------------------------------')\n",
    "    print(conf_matrix)\n",
    "    \n",
    "    print(\"\\n ROC Curve\")\n",
    "    \n",
    "    logit_roc_auc = roc_auc_score(y_test, y_pred)\n",
    "    fpr, tpr, thresholds = roc_curve(y_test, y_pred_prob)\n",
    "    plt.figure()\n",
    "    if model == lr:\n",
    "        val_model = \"lr\"\n",
    "    if model == xgb:\n",
    "        val_model = \"xgb\"\n",
    "    if model == mlp:\n",
    "        val_model = \"mlp\"\n",
    "    plt.plot(fpr, tpr, label= val_model + ' (area = %0.2f)' % logit_roc_auc)\n",
    "    plt.plot([0, 1], [0, 1],'r--')\n",
    "    plt.xlim([0.0, 1.0])\n",
    "    plt.ylim([0.0, 1.05])\n",
    "    plt.xlabel('False Positive Rate')\n",
    "    plt.ylabel('True Positive Rate')\n",
    "    plt.title('Receiver operating characteristic')\n",
    "    plt.legend(loc=\"lower right\")\n",
    "    my_fig = val_model + '.png'\n",
    "    plt.savefig(my_fig)\n",
    "    plt.show()"
   ]
  },
  {
   "cell_type": "code",
   "execution_count": 57,
   "metadata": {},
   "outputs": [],
   "source": [
    "#defining our machine learning models\n",
    "lr = LogisticRegression()\n",
    "xgb = XGBClassifier()\n",
    "mlp = MLPClassifier()\n",
    "\n",
    "models = [lr,xgb,mlp]\n",
    "\n",
    "kf = KFold(n_splits = 10, shuffle = True, random_state = 4)\n",
    "skf = StratifiedKFold(n_splits = 10, shuffle = True, random_state = 4)"
   ]
  },
  {
   "cell_type": "code",
   "execution_count": 58,
   "metadata": {},
   "outputs": [
    {
     "name": "stdout",
     "output_type": "stream",
     "text": [
      "Accuracy scores of the model: 0.93\n",
      "\n",
      " Classification report of the model\n",
      "--------------------------------------\n",
      "              precision    recall  f1-score   support\n",
      "\n",
      "           0       0.88      0.98      0.93      2682\n",
      "           1       0.98      0.87      0.92      2703\n",
      "\n",
      "    accuracy                           0.93      5385\n",
      "   macro avg       0.93      0.93      0.93      5385\n",
      "weighted avg       0.93      0.93      0.93      5385\n",
      "\n",
      "\n",
      " Confusion Matrix of the model\n",
      "--------------------------------------\n",
      "[[2634   48]\n",
      " [ 345 2358]]\n",
      "\n",
      " ROC Curve\n"
     ]
    },
    {
     "data": {
      "image/png": "[encoded data removed]",
      "text/plain": [
       "<Figure size 432x288 with 1 Axes>"
      ]
     },
     "metadata": {
      "needs_background": "light"
     },
     "output_type": "display_data"
    },
    {
     "name": "stdout",
     "output_type": "stream",
     "text": [
      "Accuracy scores of the model: 0.95\n",
      "\n",
      " Classification report of the model\n",
      "--------------------------------------\n",
      "              precision    recall  f1-score   support\n",
      "\n",
      "           0       0.92      0.98      0.95      2682\n",
      "           1       0.97      0.92      0.95      2703\n",
      "\n",
      "    accuracy                           0.95      5385\n",
      "   macro avg       0.95      0.95      0.95      5385\n",
      "weighted avg       0.95      0.95      0.95      5385\n",
      "\n",
      "\n",
      " Confusion Matrix of the model\n",
      "--------------------------------------\n",
      "[[2616   66]\n",
      " [ 216 2487]]\n",
      "\n",
      " ROC Curve\n"
     ]
    },
    {
     "data": {
      "image/png": "[encoded data removed]",
      "text/plain": [
       "<Figure size 432x288 with 1 Axes>"
      ]
     },
     "metadata": {
      "needs_background": "light"
     },
     "output_type": "display_data"
    },
    {
     "name": "stdout",
     "output_type": "stream",
     "text": [
      "Accuracy scores of the model: 0.93\n",
      "\n",
      " Classification report of the model\n",
      "--------------------------------------\n",
      "              precision    recall  f1-score   support\n",
      "\n",
      "           0       0.91      0.97      0.94      2682\n",
      "           1       0.97      0.90      0.93      2703\n",
      "\n",
      "    accuracy                           0.93      5385\n",
      "   macro avg       0.94      0.93      0.93      5385\n",
      "weighted avg       0.94      0.93      0.93      5385\n",
      "\n",
      "\n",
      " Confusion Matrix of the model\n",
      "--------------------------------------\n",
      "[[2595   87]\n",
      " [ 267 2436]]\n",
      "\n",
      " ROC Curve\n"
     ]
    },
    {
     "data": {
      "image/png": "[encoded data removed]",
      "text/plain": [
       "<Figure size 432x288 with 1 Axes>"
      ]
     },
     "metadata": {
      "needs_background": "light"
     },
     "output_type": "display_data"
    }
   ],
   "source": [
    "for i in models:\n",
    "    model_classifier(i, smote_train, smote_target, kf)"
   ]
  },
  {
   "cell_type": "code",
   "execution_count": null,
   "metadata": {},
   "outputs": [],
   "source": []
  }
 ],
 "metadata": {
  "kernelspec": {
   "display_name": "Python 3",
   "language": "python",
   "name": "python3"
  },
  "language_info": {
   "codemirror_mode": {
    "name": "ipython",
    "version": 3
   },
   "file_extension": ".py",
   "mimetype": "text/x-python",
   "name": "python",
   "nbconvert_exporter": "python",
   "pygments_lexer": "ipython3",
   "version": "3.8.5"
  }
 },
 "nbformat": 4,
 "nbformat_minor": 4
}
